{
 "cells": [
  {
   "cell_type": "markdown",
   "metadata": {},
   "source": [
    "<h1>Market Prediction Based on Daily News from The New York Times</h1>"
   ]
  },
  {
   "cell_type": "markdown",
   "metadata": {},
   "source": [
    "<h2>Capstone Project 2</h2>"
   ]
  },
  {
   "cell_type": "markdown",
   "metadata": {},
   "source": [
    "<h3>August 8, 2019</h3>\n",
    "<h3>David Gray</h3>"
   ]
  },
  {
   "cell_type": "markdown",
   "metadata": {},
   "source": [
    "<h1>Overview</h1>"
   ]
  },
  {
   "cell_type": "markdown",
   "metadata": {},
   "source": [
    "The goal of this project is to train a machine learning model to predict the movement of the stock market based on the news for that day. First, daily news is analyzed with a random forest model.  Then, models are trained for news collected over the period of a week.  A longer time period was selected to try to improve performance seen with daily news.  Finally, analysis of bigram data was performed with one model as the other models required lengthy training.  The number of columns of the unigram and bigram table exceeded half a million.\n",
    "\n",
    "<b>Note:</b> Some of the cells appear not to be run in order because of the time of execution on some could be over a day.  The results from prior execution are included"
   ]
  },
  {
   "cell_type": "code",
   "execution_count": 4,
   "metadata": {
    "scrolled": true
   },
   "outputs": [],
   "source": [
    "import sys\n",
    "#reload(sys)\n",
    "#sys.setdefaultencoding('utf8')\n",
    "import time\n",
    "import json\n",
    "import datetime\n",
    "from datetime import timedelta\n",
    "from datetime import datetime\n",
    "import requests\n",
    "import numpy as np\n",
    "import string\n",
    "import nltk\n",
    "from nltk.tokenize import RegexpTokenizer\n",
    "from nltk.corpus import stopwords\n",
    "from nltk.stem import WordNetLemmatizer\n",
    "from sklearn.model_selection import GridSearchCV\n",
    "from sklearn.feature_extraction.text import CountVectorizer\n",
    "from sklearn.feature_extraction.text import TfidfVectorizer\n",
    "from sklearn.feature_extraction.text import TfidfTransformer\n",
    "from sklearn.ensemble import RandomForestClassifier\n",
    "from sklearn.model_selection import KFold, cross_val_score\n",
    "from sklearn import model_selection, naive_bayes, svm\n",
    "import pandas as pd\n",
    "from pprint import pprint\n",
    "#import matplotlib.pyplot as plt\n",
    "from dateutil import parser\n",
    "from sklearn import grid_search\n",
    "apikey = 'MYAPIKEY'"
   ]
  },
  {
   "cell_type": "markdown",
   "metadata": {},
   "source": [
    "<h1>Import Financial Data and Extract Dates</h1>"
   ]
  },
  {
   "cell_type": "markdown",
   "metadata": {},
   "source": [
    "The dates from the financial data are important because these inform what dates of news to analzye.  For instance, news from the weekend and holidays are not included."
   ]
  },
  {
   "cell_type": "code",
   "execution_count": 5,
   "metadata": {},
   "outputs": [],
   "source": [
    "financial_data = pd.read_csv('SP500from2009to2019.csv')"
   ]
  },
  {
   "cell_type": "code",
   "execution_count": 6,
   "metadata": {},
   "outputs": [
    {
     "data": {
      "text/html": [
       "<div>\n",
       "<style scoped>\n",
       "    .dataframe tbody tr th:only-of-type {\n",
       "        vertical-align: middle;\n",
       "    }\n",
       "\n",
       "    .dataframe tbody tr th {\n",
       "        vertical-align: top;\n",
       "    }\n",
       "\n",
       "    .dataframe thead th {\n",
       "        text-align: right;\n",
       "    }\n",
       "</style>\n",
       "<table border=\"1\" class=\"dataframe\">\n",
       "  <thead>\n",
       "    <tr style=\"text-align: right;\">\n",
       "      <th></th>\n",
       "      <th>Date</th>\n",
       "      <th>Open</th>\n",
       "      <th>High</th>\n",
       "      <th>Low</th>\n",
       "      <th>Close</th>\n",
       "      <th>Adj Close</th>\n",
       "      <th>Volume</th>\n",
       "    </tr>\n",
       "  </thead>\n",
       "  <tbody>\n",
       "    <tr>\n",
       "      <th>0</th>\n",
       "      <td>7/20/09</td>\n",
       "      <td>942.070007</td>\n",
       "      <td>951.619995</td>\n",
       "      <td>940.989990</td>\n",
       "      <td>951.130005</td>\n",
       "      <td>951.130005</td>\n",
       "      <td>4853150000</td>\n",
       "    </tr>\n",
       "    <tr>\n",
       "      <th>1</th>\n",
       "      <td>7/21/09</td>\n",
       "      <td>951.969971</td>\n",
       "      <td>956.530029</td>\n",
       "      <td>943.219971</td>\n",
       "      <td>954.580017</td>\n",
       "      <td>954.580017</td>\n",
       "      <td>5309300000</td>\n",
       "    </tr>\n",
       "    <tr>\n",
       "      <th>2</th>\n",
       "      <td>7/22/09</td>\n",
       "      <td>953.400024</td>\n",
       "      <td>959.830017</td>\n",
       "      <td>947.750000</td>\n",
       "      <td>954.070007</td>\n",
       "      <td>954.070007</td>\n",
       "      <td>4634100000</td>\n",
       "    </tr>\n",
       "    <tr>\n",
       "      <th>3</th>\n",
       "      <td>7/23/09</td>\n",
       "      <td>954.070007</td>\n",
       "      <td>979.419983</td>\n",
       "      <td>953.270020</td>\n",
       "      <td>976.289978</td>\n",
       "      <td>976.289978</td>\n",
       "      <td>5761650000</td>\n",
       "    </tr>\n",
       "    <tr>\n",
       "      <th>4</th>\n",
       "      <td>7/24/09</td>\n",
       "      <td>972.159973</td>\n",
       "      <td>979.789978</td>\n",
       "      <td>965.950012</td>\n",
       "      <td>979.260010</td>\n",
       "      <td>979.260010</td>\n",
       "      <td>4458300000</td>\n",
       "    </tr>\n",
       "  </tbody>\n",
       "</table>\n",
       "</div>"
      ],
      "text/plain": [
       "      Date        Open        High         Low       Close   Adj Close  \\\n",
       "0  7/20/09  942.070007  951.619995  940.989990  951.130005  951.130005   \n",
       "1  7/21/09  951.969971  956.530029  943.219971  954.580017  954.580017   \n",
       "2  7/22/09  953.400024  959.830017  947.750000  954.070007  954.070007   \n",
       "3  7/23/09  954.070007  979.419983  953.270020  976.289978  976.289978   \n",
       "4  7/24/09  972.159973  979.789978  965.950012  979.260010  979.260010   \n",
       "\n",
       "       Volume  \n",
       "0  4853150000  \n",
       "1  5309300000  \n",
       "2  4634100000  \n",
       "3  5761650000  \n",
       "4  4458300000  "
      ]
     },
     "execution_count": 6,
     "metadata": {},
     "output_type": "execute_result"
    }
   ],
   "source": [
    "financial_data.head()"
   ]
  },
  {
   "cell_type": "markdown",
   "metadata": {},
   "source": [
    "Several columns from the financial table need to be dropped"
   ]
  },
  {
   "cell_type": "code",
   "execution_count": 7,
   "metadata": {},
   "outputs": [],
   "source": [
    "cropped_data = financial_data.drop([\"High\", \"Low\", \"Close\", \"Volume\"], axis=1)"
   ]
  },
  {
   "cell_type": "code",
   "execution_count": 8,
   "metadata": {},
   "outputs": [
    {
     "data": {
      "text/html": [
       "<div>\n",
       "<style scoped>\n",
       "    .dataframe tbody tr th:only-of-type {\n",
       "        vertical-align: middle;\n",
       "    }\n",
       "\n",
       "    .dataframe tbody tr th {\n",
       "        vertical-align: top;\n",
       "    }\n",
       "\n",
       "    .dataframe thead th {\n",
       "        text-align: right;\n",
       "    }\n",
       "</style>\n",
       "<table border=\"1\" class=\"dataframe\">\n",
       "  <thead>\n",
       "    <tr style=\"text-align: right;\">\n",
       "      <th></th>\n",
       "      <th>Date</th>\n",
       "      <th>Open</th>\n",
       "      <th>Adj Close</th>\n",
       "    </tr>\n",
       "  </thead>\n",
       "  <tbody>\n",
       "    <tr>\n",
       "      <th>0</th>\n",
       "      <td>7/20/09</td>\n",
       "      <td>942.070007</td>\n",
       "      <td>951.130005</td>\n",
       "    </tr>\n",
       "    <tr>\n",
       "      <th>1</th>\n",
       "      <td>7/21/09</td>\n",
       "      <td>951.969971</td>\n",
       "      <td>954.580017</td>\n",
       "    </tr>\n",
       "    <tr>\n",
       "      <th>2</th>\n",
       "      <td>7/22/09</td>\n",
       "      <td>953.400024</td>\n",
       "      <td>954.070007</td>\n",
       "    </tr>\n",
       "    <tr>\n",
       "      <th>3</th>\n",
       "      <td>7/23/09</td>\n",
       "      <td>954.070007</td>\n",
       "      <td>976.289978</td>\n",
       "    </tr>\n",
       "    <tr>\n",
       "      <th>4</th>\n",
       "      <td>7/24/09</td>\n",
       "      <td>972.159973</td>\n",
       "      <td>979.260010</td>\n",
       "    </tr>\n",
       "  </tbody>\n",
       "</table>\n",
       "</div>"
      ],
      "text/plain": [
       "      Date        Open   Adj Close\n",
       "0  7/20/09  942.070007  951.130005\n",
       "1  7/21/09  951.969971  954.580017\n",
       "2  7/22/09  953.400024  954.070007\n",
       "3  7/23/09  954.070007  976.289978\n",
       "4  7/24/09  972.159973  979.260010"
      ]
     },
     "execution_count": 8,
     "metadata": {},
     "output_type": "execute_result"
    }
   ],
   "source": [
    "cropped_data.head()"
   ]
  },
  {
   "cell_type": "markdown",
   "metadata": {},
   "source": [
    "Find out whether the market rose or fell and assign a \"1\" or \"0\" accordingly"
   ]
  },
  {
   "cell_type": "code",
   "execution_count": 9,
   "metadata": {},
   "outputs": [],
   "source": [
    "cropped_data['Change'] = cropped_data['Adj Close'] - cropped_data['Open']"
   ]
  },
  {
   "cell_type": "code",
   "execution_count": 10,
   "metadata": {},
   "outputs": [
    {
     "data": {
      "text/html": [
       "<div>\n",
       "<style scoped>\n",
       "    .dataframe tbody tr th:only-of-type {\n",
       "        vertical-align: middle;\n",
       "    }\n",
       "\n",
       "    .dataframe tbody tr th {\n",
       "        vertical-align: top;\n",
       "    }\n",
       "\n",
       "    .dataframe thead th {\n",
       "        text-align: right;\n",
       "    }\n",
       "</style>\n",
       "<table border=\"1\" class=\"dataframe\">\n",
       "  <thead>\n",
       "    <tr style=\"text-align: right;\">\n",
       "      <th></th>\n",
       "      <th>Date</th>\n",
       "      <th>Open</th>\n",
       "      <th>Adj Close</th>\n",
       "      <th>Change</th>\n",
       "    </tr>\n",
       "  </thead>\n",
       "  <tbody>\n",
       "    <tr>\n",
       "      <th>0</th>\n",
       "      <td>7/20/09</td>\n",
       "      <td>942.070007</td>\n",
       "      <td>951.130005</td>\n",
       "      <td>9.059998</td>\n",
       "    </tr>\n",
       "    <tr>\n",
       "      <th>1</th>\n",
       "      <td>7/21/09</td>\n",
       "      <td>951.969971</td>\n",
       "      <td>954.580017</td>\n",
       "      <td>2.610046</td>\n",
       "    </tr>\n",
       "    <tr>\n",
       "      <th>2</th>\n",
       "      <td>7/22/09</td>\n",
       "      <td>953.400024</td>\n",
       "      <td>954.070007</td>\n",
       "      <td>0.669983</td>\n",
       "    </tr>\n",
       "    <tr>\n",
       "      <th>3</th>\n",
       "      <td>7/23/09</td>\n",
       "      <td>954.070007</td>\n",
       "      <td>976.289978</td>\n",
       "      <td>22.219971</td>\n",
       "    </tr>\n",
       "    <tr>\n",
       "      <th>4</th>\n",
       "      <td>7/24/09</td>\n",
       "      <td>972.159973</td>\n",
       "      <td>979.260010</td>\n",
       "      <td>7.100037</td>\n",
       "    </tr>\n",
       "  </tbody>\n",
       "</table>\n",
       "</div>"
      ],
      "text/plain": [
       "      Date        Open   Adj Close     Change\n",
       "0  7/20/09  942.070007  951.130005   9.059998\n",
       "1  7/21/09  951.969971  954.580017   2.610046\n",
       "2  7/22/09  953.400024  954.070007   0.669983\n",
       "3  7/23/09  954.070007  976.289978  22.219971\n",
       "4  7/24/09  972.159973  979.260010   7.100037"
      ]
     },
     "execution_count": 10,
     "metadata": {},
     "output_type": "execute_result"
    }
   ],
   "source": [
    "cropped_data.head()"
   ]
  },
  {
   "cell_type": "code",
   "execution_count": 11,
   "metadata": {},
   "outputs": [],
   "source": [
    "cropped_data['Change'] = (cropped_data['Change'] > 0)"
   ]
  },
  {
   "cell_type": "code",
   "execution_count": 12,
   "metadata": {},
   "outputs": [],
   "source": [
    "cropped_data['Change'] = cropped_data['Change'] * 1"
   ]
  },
  {
   "cell_type": "code",
   "execution_count": 13,
   "metadata": {},
   "outputs": [
    {
     "data": {
      "text/html": [
       "<div>\n",
       "<style scoped>\n",
       "    .dataframe tbody tr th:only-of-type {\n",
       "        vertical-align: middle;\n",
       "    }\n",
       "\n",
       "    .dataframe tbody tr th {\n",
       "        vertical-align: top;\n",
       "    }\n",
       "\n",
       "    .dataframe thead th {\n",
       "        text-align: right;\n",
       "    }\n",
       "</style>\n",
       "<table border=\"1\" class=\"dataframe\">\n",
       "  <thead>\n",
       "    <tr style=\"text-align: right;\">\n",
       "      <th></th>\n",
       "      <th>Date</th>\n",
       "      <th>Open</th>\n",
       "      <th>Adj Close</th>\n",
       "      <th>Change</th>\n",
       "    </tr>\n",
       "  </thead>\n",
       "  <tbody>\n",
       "    <tr>\n",
       "      <th>0</th>\n",
       "      <td>7/20/09</td>\n",
       "      <td>942.070007</td>\n",
       "      <td>951.130005</td>\n",
       "      <td>1</td>\n",
       "    </tr>\n",
       "    <tr>\n",
       "      <th>1</th>\n",
       "      <td>7/21/09</td>\n",
       "      <td>951.969971</td>\n",
       "      <td>954.580017</td>\n",
       "      <td>1</td>\n",
       "    </tr>\n",
       "    <tr>\n",
       "      <th>2</th>\n",
       "      <td>7/22/09</td>\n",
       "      <td>953.400024</td>\n",
       "      <td>954.070007</td>\n",
       "      <td>1</td>\n",
       "    </tr>\n",
       "    <tr>\n",
       "      <th>3</th>\n",
       "      <td>7/23/09</td>\n",
       "      <td>954.070007</td>\n",
       "      <td>976.289978</td>\n",
       "      <td>1</td>\n",
       "    </tr>\n",
       "    <tr>\n",
       "      <th>4</th>\n",
       "      <td>7/24/09</td>\n",
       "      <td>972.159973</td>\n",
       "      <td>979.260010</td>\n",
       "      <td>1</td>\n",
       "    </tr>\n",
       "  </tbody>\n",
       "</table>\n",
       "</div>"
      ],
      "text/plain": [
       "      Date        Open   Adj Close  Change\n",
       "0  7/20/09  942.070007  951.130005       1\n",
       "1  7/21/09  951.969971  954.580017       1\n",
       "2  7/22/09  953.400024  954.070007       1\n",
       "3  7/23/09  954.070007  976.289978       1\n",
       "4  7/24/09  972.159973  979.260010       1"
      ]
     },
     "execution_count": 13,
     "metadata": {},
     "output_type": "execute_result"
    }
   ],
   "source": [
    "cropped_data.head()"
   ]
  },
  {
   "cell_type": "markdown",
   "metadata": {},
   "source": [
    "We can drop the \"Open\" and \"Adj Close\" column because we have determined the rise and fall"
   ]
  },
  {
   "cell_type": "code",
   "execution_count": 14,
   "metadata": {},
   "outputs": [],
   "source": [
    "change_data = cropped_data.drop([\"Open\", \"Adj Close\"], axis=1)"
   ]
  },
  {
   "cell_type": "code",
   "execution_count": 15,
   "metadata": {},
   "outputs": [
    {
     "data": {
      "text/html": [
       "<div>\n",
       "<style scoped>\n",
       "    .dataframe tbody tr th:only-of-type {\n",
       "        vertical-align: middle;\n",
       "    }\n",
       "\n",
       "    .dataframe tbody tr th {\n",
       "        vertical-align: top;\n",
       "    }\n",
       "\n",
       "    .dataframe thead th {\n",
       "        text-align: right;\n",
       "    }\n",
       "</style>\n",
       "<table border=\"1\" class=\"dataframe\">\n",
       "  <thead>\n",
       "    <tr style=\"text-align: right;\">\n",
       "      <th></th>\n",
       "      <th>Date</th>\n",
       "      <th>Change</th>\n",
       "    </tr>\n",
       "  </thead>\n",
       "  <tbody>\n",
       "    <tr>\n",
       "      <th>0</th>\n",
       "      <td>7/20/09</td>\n",
       "      <td>1</td>\n",
       "    </tr>\n",
       "    <tr>\n",
       "      <th>1</th>\n",
       "      <td>7/21/09</td>\n",
       "      <td>1</td>\n",
       "    </tr>\n",
       "    <tr>\n",
       "      <th>2</th>\n",
       "      <td>7/22/09</td>\n",
       "      <td>1</td>\n",
       "    </tr>\n",
       "    <tr>\n",
       "      <th>3</th>\n",
       "      <td>7/23/09</td>\n",
       "      <td>1</td>\n",
       "    </tr>\n",
       "    <tr>\n",
       "      <th>4</th>\n",
       "      <td>7/24/09</td>\n",
       "      <td>1</td>\n",
       "    </tr>\n",
       "    <tr>\n",
       "      <th>5</th>\n",
       "      <td>7/27/09</td>\n",
       "      <td>1</td>\n",
       "    </tr>\n",
       "    <tr>\n",
       "      <th>6</th>\n",
       "      <td>7/28/09</td>\n",
       "      <td>0</td>\n",
       "    </tr>\n",
       "    <tr>\n",
       "      <th>7</th>\n",
       "      <td>7/29/09</td>\n",
       "      <td>0</td>\n",
       "    </tr>\n",
       "  </tbody>\n",
       "</table>\n",
       "</div>"
      ],
      "text/plain": [
       "      Date  Change\n",
       "0  7/20/09       1\n",
       "1  7/21/09       1\n",
       "2  7/22/09       1\n",
       "3  7/23/09       1\n",
       "4  7/24/09       1\n",
       "5  7/27/09       1\n",
       "6  7/28/09       0\n",
       "7  7/29/09       0"
      ]
     },
     "execution_count": 15,
     "metadata": {},
     "output_type": "execute_result"
    }
   ],
   "source": [
    "change_data.head(8)"
   ]
  },
  {
   "cell_type": "markdown",
   "metadata": {},
   "source": [
    "The dates are formatted for the purpose of calling for data with the NY Times API"
   ]
  },
  {
   "cell_type": "code",
   "execution_count": 16,
   "metadata": {},
   "outputs": [],
   "source": [
    "change_data['Date'] = change_data['Date'].map(lambda date: datetime.strptime(date,'%m/%d/%y').strftime('%Y%m%d'))"
   ]
  },
  {
   "cell_type": "code",
   "execution_count": 17,
   "metadata": {},
   "outputs": [
    {
     "data": {
      "text/html": [
       "<div>\n",
       "<style scoped>\n",
       "    .dataframe tbody tr th:only-of-type {\n",
       "        vertical-align: middle;\n",
       "    }\n",
       "\n",
       "    .dataframe tbody tr th {\n",
       "        vertical-align: top;\n",
       "    }\n",
       "\n",
       "    .dataframe thead th {\n",
       "        text-align: right;\n",
       "    }\n",
       "</style>\n",
       "<table border=\"1\" class=\"dataframe\">\n",
       "  <thead>\n",
       "    <tr style=\"text-align: right;\">\n",
       "      <th></th>\n",
       "      <th>Date</th>\n",
       "      <th>Change</th>\n",
       "    </tr>\n",
       "  </thead>\n",
       "  <tbody>\n",
       "    <tr>\n",
       "      <th>0</th>\n",
       "      <td>20090720</td>\n",
       "      <td>1</td>\n",
       "    </tr>\n",
       "    <tr>\n",
       "      <th>1</th>\n",
       "      <td>20090721</td>\n",
       "      <td>1</td>\n",
       "    </tr>\n",
       "    <tr>\n",
       "      <th>2</th>\n",
       "      <td>20090722</td>\n",
       "      <td>1</td>\n",
       "    </tr>\n",
       "    <tr>\n",
       "      <th>3</th>\n",
       "      <td>20090723</td>\n",
       "      <td>1</td>\n",
       "    </tr>\n",
       "    <tr>\n",
       "      <th>4</th>\n",
       "      <td>20090724</td>\n",
       "      <td>1</td>\n",
       "    </tr>\n",
       "  </tbody>\n",
       "</table>\n",
       "</div>"
      ],
      "text/plain": [
       "       Date  Change\n",
       "0  20090720       1\n",
       "1  20090721       1\n",
       "2  20090722       1\n",
       "3  20090723       1\n",
       "4  20090724       1"
      ]
     },
     "execution_count": 17,
     "metadata": {},
     "output_type": "execute_result"
    }
   ],
   "source": [
    "change_data.head()"
   ]
  },
  {
   "cell_type": "code",
   "execution_count": 18,
   "metadata": {},
   "outputs": [],
   "source": [
    "formatted_dates = change_data[\"Date\"]"
   ]
  },
  {
   "cell_type": "code",
   "execution_count": 19,
   "metadata": {},
   "outputs": [
    {
     "data": {
      "text/plain": [
       "0    20090720\n",
       "1    20090721\n",
       "2    20090722\n",
       "3    20090723\n",
       "4    20090724\n",
       "Name: Date, dtype: object"
      ]
     },
     "execution_count": 19,
     "metadata": {},
     "output_type": "execute_result"
    }
   ],
   "source": [
    "formatted_dates.head()"
   ]
  },
  {
   "cell_type": "markdown",
   "metadata": {},
   "source": [
    "<h1>Functions for Processing Data from JSON and to Tokenize</h1>"
   ]
  },
  {
   "cell_type": "markdown",
   "metadata": {},
   "source": [
    "These functions help collect the news initially in JSON format, and process the text for later vectorization."
   ]
  },
  {
   "cell_type": "code",
   "execution_count": 20,
   "metadata": {},
   "outputs": [],
   "source": [
    "def collect(json_data):\n",
    "    collection = ''\n",
    "    i = 1\n",
    "    for key in json_data[\"response\"][\"docs\"]:\n",
    "        collection += key[\"abstract\"] + ' '\n",
    "        i += 1\n",
    "    return collection"
   ]
  },
  {
   "cell_type": "code",
   "execution_count": 21,
   "metadata": {},
   "outputs": [],
   "source": [
    "lemmatizer = WordNetLemmatizer()\n",
    "\n",
    "def clean_text(text):\n",
    "    final_text = []\n",
    "    stop_words=set(stopwords.words(\"english\"))\n",
    "    filtered_words = []\n",
    "    sentences = nltk.sent_tokenize(text)\n",
    "    for sentence in sentences:\n",
    "        words = nltk.word_tokenize(sentence)\n",
    "        #words = tokenizer.tokenize(encode_sentence)\n",
    "        no_punc_words = [w for w in words if w not in string.punctuation]\n",
    "        filtered_words = [w.lower() for w in no_punc_words if w not in stop_words]\n",
    "        final_text += [lemmatizer.lemmatize(word) for word in filtered_words]\n",
    "    return final_text"
   ]
  },
  {
   "cell_type": "markdown",
   "metadata": {},
   "source": [
    "<h1>Downloading Articles and Storing Processed Text</h1>"
   ]
  },
  {
   "cell_type": "markdown",
   "metadata": {},
   "source": [
    "In downloading the abstracts from The New York Times, there is a call limit set for the API, so a twenty-three second gap is introduced.  National and foreign news is collected for all the dates in which financial data was collected.  The encoding of the text is also changed to ASCII."
   ]
  },
  {
   "cell_type": "code",
   "execution_count": null,
   "metadata": {},
   "outputs": [],
   "source": [
    "filling_df = pd.DataFrame()\n",
    "news_df = pd.DataFrame()\n",
    "news_collection_df = pd.DataFrame()\n",
    "\n",
    "for date in formatted_dates:\n",
    "\n",
    "    begin_date = date\n",
    "    end_date = begin_date\n",
    "    news_desk = 'National'\n",
    "    url = 'https://api.nytimes.com/svc/search/v2/articlesearch.json?fq=news_desk:(' + news_desk + ')&print_page=\"1\"&q= &begin_date=' + begin_date + '&end_date=' + end_date + '&api-key=' + apikey\n",
    "    r = requests.get(url)\n",
    "    national_json_data = r.json()\n",
    "    #pprint(national_json_data)\n",
    "    \n",
    "    time.sleep(23)\n",
    "    \n",
    "    news_desk = 'Foreign'\n",
    "    url = 'https://api.nytimes.com/svc/search/v2/articlesearch.json?fq=news_desk:(' + news_desk + ')&print_page=\"1\"&q= &begin_date=' + begin_date + '&end_date=' + end_date + '&api-key=' + apikey\n",
    "    r = requests.get(url)\n",
    "    foreign_json_data = r.json()\n",
    "    #pprint(foreign_json_data)\n",
    "    \n",
    "    time.sleep(23)\n",
    "    \n",
    "    national_collection = collect(national_json_data)\n",
    "    foreign_collection = collect(foreign_json_data)\n",
    "    \n",
    "    one_days_collection = national_collection + foreign_collection\n",
    "    #print(one_days_collection)\n",
    "    \n",
    "    one_days_collection = one_days_collection.encode('ascii', 'ignore')\n",
    "    \n",
    "    print(date, one_days_collection)\n",
    "    \n",
    "    news_df[\"Text\"] = [one_days_collection]\n",
    "    news_df.index = [str(date)]\n",
    "    news_df.index.name = 'Date'\n",
    "    news_collection_df = news_collection_df.append(news_df)\n",
    "    \n",
    "    news_collection_df.to_csv('20190722NYTimesFullTextANSII.csv')\n",
    "    \n",
    "    one_days_collection = [one_days_collection]\n",
    "    \n",
    "    count_vect = CountVectorizer(analyzer=clean_text)\n",
    "    X_counts = count_vect.fit_transform(one_days_collection)\n",
    "    #print(count_vect.get_feature_names())\n",
    "    \n",
    "    X_counts_df = pd.DataFrame(X_counts.toarray())\n",
    "    X_counts_df.columns = count_vect.get_feature_names()\n",
    "    X_counts_df.index = [str(date)]\n",
    "    X_counts_df.index.name = 'Date'\n",
    "    #print(X_counts_df)\n",
    "    \n",
    "    filling_df = filling_df.append(X_counts_df)\n",
    "    #print(filling_df)\n",
    "    filling_df = filling_df.fillna(0)\n",
    "    \n",
    "    filling_df.to_csv('20190722NYTimesDataANSII.csv')"
   ]
  },
  {
   "cell_type": "markdown",
   "metadata": {},
   "source": [
    "A copy of the data was created to be safe in case an operation changed the original data"
   ]
  },
  {
   "cell_type": "code",
   "execution_count": null,
   "metadata": {},
   "outputs": [],
   "source": [
    "filling_df.to_csv('20190722NYTimesDataANSII_copy.csv')"
   ]
  },
  {
   "cell_type": "code",
   "execution_count": null,
   "metadata": {},
   "outputs": [],
   "source": [
    "news_collection_df.to_csv('20190722NYTimesFullTextANSII_copy.csv')"
   ]
  },
  {
   "cell_type": "markdown",
   "metadata": {},
   "source": [
    "<h2>Full Analysis with All Daily Data</h2>"
   ]
  },
  {
   "cell_type": "markdown",
   "metadata": {},
   "source": [
    "Again, a copy of the data was created after loading from file"
   ]
  },
  {
   "cell_type": "code",
   "execution_count": 22,
   "metadata": {},
   "outputs": [],
   "source": [
    "filling_df = pd.read_csv('20190722NYTimesDataANSII_copy.csv')"
   ]
  },
  {
   "cell_type": "code",
   "execution_count": 23,
   "metadata": {},
   "outputs": [],
   "source": [
    "copy_filling_df = filling_df"
   ]
  },
  {
   "cell_type": "code",
   "execution_count": 24,
   "metadata": {
    "scrolled": true
   },
   "outputs": [
    {
     "data": {
      "text/html": [
       "<div>\n",
       "<style scoped>\n",
       "    .dataframe tbody tr th:only-of-type {\n",
       "        vertical-align: middle;\n",
       "    }\n",
       "\n",
       "    .dataframe tbody tr th {\n",
       "        vertical-align: top;\n",
       "    }\n",
       "\n",
       "    .dataframe thead th {\n",
       "        text-align: right;\n",
       "    }\n",
       "</style>\n",
       "<table border=\"1\" class=\"dataframe\">\n",
       "  <thead>\n",
       "    <tr style=\"text-align: right;\">\n",
       "      <th></th>\n",
       "      <th>Date</th>\n",
       "      <th>''</th>\n",
       "      <th>'91</th>\n",
       "      <th>'affluenza</th>\n",
       "      <th>'d</th>\n",
       "      <th>'n</th>\n",
       "      <th>'re</th>\n",
       "      <th>'s</th>\n",
       "      <th>'stand</th>\n",
       "      <th>*an</th>\n",
       "      <th>...</th>\n",
       "      <th>zulu</th>\n",
       "      <th>zuma</th>\n",
       "      <th>zumas</th>\n",
       "      <th>zuni</th>\n",
       "      <th>zuoren</th>\n",
       "      <th>zurich</th>\n",
       "      <th>zurita</th>\n",
       "      <th>zvonko</th>\n",
       "      <th>zvyagintsev</th>\n",
       "      <th>zygier</th>\n",
       "    </tr>\n",
       "  </thead>\n",
       "  <tbody>\n",
       "    <tr>\n",
       "      <th>0</th>\n",
       "      <td>20090720</td>\n",
       "      <td>0.0</td>\n",
       "      <td>0.0</td>\n",
       "      <td>0.0</td>\n",
       "      <td>0.0</td>\n",
       "      <td>0.0</td>\n",
       "      <td>0.0</td>\n",
       "      <td>0.0</td>\n",
       "      <td>0.0</td>\n",
       "      <td>0.0</td>\n",
       "      <td>...</td>\n",
       "      <td>0.0</td>\n",
       "      <td>0.0</td>\n",
       "      <td>0.0</td>\n",
       "      <td>0.0</td>\n",
       "      <td>0.0</td>\n",
       "      <td>0.0</td>\n",
       "      <td>0.0</td>\n",
       "      <td>0.0</td>\n",
       "      <td>0.0</td>\n",
       "      <td>0.0</td>\n",
       "    </tr>\n",
       "    <tr>\n",
       "      <th>1</th>\n",
       "      <td>20090721</td>\n",
       "      <td>0.0</td>\n",
       "      <td>0.0</td>\n",
       "      <td>0.0</td>\n",
       "      <td>0.0</td>\n",
       "      <td>0.0</td>\n",
       "      <td>0.0</td>\n",
       "      <td>0.0</td>\n",
       "      <td>0.0</td>\n",
       "      <td>0.0</td>\n",
       "      <td>...</td>\n",
       "      <td>0.0</td>\n",
       "      <td>0.0</td>\n",
       "      <td>0.0</td>\n",
       "      <td>0.0</td>\n",
       "      <td>0.0</td>\n",
       "      <td>0.0</td>\n",
       "      <td>0.0</td>\n",
       "      <td>0.0</td>\n",
       "      <td>0.0</td>\n",
       "      <td>0.0</td>\n",
       "    </tr>\n",
       "    <tr>\n",
       "      <th>2</th>\n",
       "      <td>20090722</td>\n",
       "      <td>0.0</td>\n",
       "      <td>0.0</td>\n",
       "      <td>0.0</td>\n",
       "      <td>0.0</td>\n",
       "      <td>0.0</td>\n",
       "      <td>0.0</td>\n",
       "      <td>0.0</td>\n",
       "      <td>0.0</td>\n",
       "      <td>0.0</td>\n",
       "      <td>...</td>\n",
       "      <td>0.0</td>\n",
       "      <td>0.0</td>\n",
       "      <td>0.0</td>\n",
       "      <td>0.0</td>\n",
       "      <td>0.0</td>\n",
       "      <td>0.0</td>\n",
       "      <td>0.0</td>\n",
       "      <td>0.0</td>\n",
       "      <td>0.0</td>\n",
       "      <td>0.0</td>\n",
       "    </tr>\n",
       "    <tr>\n",
       "      <th>3</th>\n",
       "      <td>20090723</td>\n",
       "      <td>0.0</td>\n",
       "      <td>0.0</td>\n",
       "      <td>0.0</td>\n",
       "      <td>0.0</td>\n",
       "      <td>0.0</td>\n",
       "      <td>0.0</td>\n",
       "      <td>0.0</td>\n",
       "      <td>0.0</td>\n",
       "      <td>0.0</td>\n",
       "      <td>...</td>\n",
       "      <td>0.0</td>\n",
       "      <td>0.0</td>\n",
       "      <td>0.0</td>\n",
       "      <td>0.0</td>\n",
       "      <td>0.0</td>\n",
       "      <td>0.0</td>\n",
       "      <td>0.0</td>\n",
       "      <td>0.0</td>\n",
       "      <td>0.0</td>\n",
       "      <td>0.0</td>\n",
       "    </tr>\n",
       "    <tr>\n",
       "      <th>4</th>\n",
       "      <td>20090724</td>\n",
       "      <td>0.0</td>\n",
       "      <td>0.0</td>\n",
       "      <td>0.0</td>\n",
       "      <td>0.0</td>\n",
       "      <td>0.0</td>\n",
       "      <td>0.0</td>\n",
       "      <td>0.0</td>\n",
       "      <td>0.0</td>\n",
       "      <td>0.0</td>\n",
       "      <td>...</td>\n",
       "      <td>0.0</td>\n",
       "      <td>0.0</td>\n",
       "      <td>0.0</td>\n",
       "      <td>0.0</td>\n",
       "      <td>0.0</td>\n",
       "      <td>0.0</td>\n",
       "      <td>0.0</td>\n",
       "      <td>0.0</td>\n",
       "      <td>0.0</td>\n",
       "      <td>0.0</td>\n",
       "    </tr>\n",
       "    <tr>\n",
       "      <th>5</th>\n",
       "      <td>20090727</td>\n",
       "      <td>0.0</td>\n",
       "      <td>0.0</td>\n",
       "      <td>0.0</td>\n",
       "      <td>0.0</td>\n",
       "      <td>0.0</td>\n",
       "      <td>0.0</td>\n",
       "      <td>0.0</td>\n",
       "      <td>0.0</td>\n",
       "      <td>0.0</td>\n",
       "      <td>...</td>\n",
       "      <td>0.0</td>\n",
       "      <td>0.0</td>\n",
       "      <td>0.0</td>\n",
       "      <td>0.0</td>\n",
       "      <td>0.0</td>\n",
       "      <td>0.0</td>\n",
       "      <td>0.0</td>\n",
       "      <td>0.0</td>\n",
       "      <td>0.0</td>\n",
       "      <td>0.0</td>\n",
       "    </tr>\n",
       "    <tr>\n",
       "      <th>6</th>\n",
       "      <td>20090728</td>\n",
       "      <td>0.0</td>\n",
       "      <td>0.0</td>\n",
       "      <td>0.0</td>\n",
       "      <td>0.0</td>\n",
       "      <td>0.0</td>\n",
       "      <td>0.0</td>\n",
       "      <td>0.0</td>\n",
       "      <td>0.0</td>\n",
       "      <td>0.0</td>\n",
       "      <td>...</td>\n",
       "      <td>0.0</td>\n",
       "      <td>0.0</td>\n",
       "      <td>0.0</td>\n",
       "      <td>0.0</td>\n",
       "      <td>0.0</td>\n",
       "      <td>0.0</td>\n",
       "      <td>0.0</td>\n",
       "      <td>0.0</td>\n",
       "      <td>0.0</td>\n",
       "      <td>0.0</td>\n",
       "    </tr>\n",
       "    <tr>\n",
       "      <th>7</th>\n",
       "      <td>20090729</td>\n",
       "      <td>0.0</td>\n",
       "      <td>0.0</td>\n",
       "      <td>0.0</td>\n",
       "      <td>0.0</td>\n",
       "      <td>0.0</td>\n",
       "      <td>0.0</td>\n",
       "      <td>0.0</td>\n",
       "      <td>0.0</td>\n",
       "      <td>0.0</td>\n",
       "      <td>...</td>\n",
       "      <td>0.0</td>\n",
       "      <td>0.0</td>\n",
       "      <td>0.0</td>\n",
       "      <td>0.0</td>\n",
       "      <td>0.0</td>\n",
       "      <td>0.0</td>\n",
       "      <td>0.0</td>\n",
       "      <td>0.0</td>\n",
       "      <td>0.0</td>\n",
       "      <td>0.0</td>\n",
       "    </tr>\n",
       "    <tr>\n",
       "      <th>8</th>\n",
       "      <td>20090730</td>\n",
       "      <td>0.0</td>\n",
       "      <td>0.0</td>\n",
       "      <td>0.0</td>\n",
       "      <td>0.0</td>\n",
       "      <td>0.0</td>\n",
       "      <td>0.0</td>\n",
       "      <td>0.0</td>\n",
       "      <td>0.0</td>\n",
       "      <td>0.0</td>\n",
       "      <td>...</td>\n",
       "      <td>0.0</td>\n",
       "      <td>0.0</td>\n",
       "      <td>0.0</td>\n",
       "      <td>0.0</td>\n",
       "      <td>0.0</td>\n",
       "      <td>0.0</td>\n",
       "      <td>0.0</td>\n",
       "      <td>0.0</td>\n",
       "      <td>0.0</td>\n",
       "      <td>0.0</td>\n",
       "    </tr>\n",
       "    <tr>\n",
       "      <th>9</th>\n",
       "      <td>20090731</td>\n",
       "      <td>0.0</td>\n",
       "      <td>0.0</td>\n",
       "      <td>0.0</td>\n",
       "      <td>0.0</td>\n",
       "      <td>0.0</td>\n",
       "      <td>0.0</td>\n",
       "      <td>0.0</td>\n",
       "      <td>0.0</td>\n",
       "      <td>0.0</td>\n",
       "      <td>...</td>\n",
       "      <td>0.0</td>\n",
       "      <td>1.0</td>\n",
       "      <td>0.0</td>\n",
       "      <td>0.0</td>\n",
       "      <td>0.0</td>\n",
       "      <td>0.0</td>\n",
       "      <td>0.0</td>\n",
       "      <td>0.0</td>\n",
       "      <td>0.0</td>\n",
       "      <td>0.0</td>\n",
       "    </tr>\n",
       "  </tbody>\n",
       "</table>\n",
       "<p>10 rows × 40034 columns</p>\n",
       "</div>"
      ],
      "text/plain": [
       "       Date   ''  '91  'affluenza   'd   'n  're   's  'stand  *an   ...    \\\n",
       "0  20090720  0.0  0.0         0.0  0.0  0.0  0.0  0.0     0.0  0.0   ...     \n",
       "1  20090721  0.0  0.0         0.0  0.0  0.0  0.0  0.0     0.0  0.0   ...     \n",
       "2  20090722  0.0  0.0         0.0  0.0  0.0  0.0  0.0     0.0  0.0   ...     \n",
       "3  20090723  0.0  0.0         0.0  0.0  0.0  0.0  0.0     0.0  0.0   ...     \n",
       "4  20090724  0.0  0.0         0.0  0.0  0.0  0.0  0.0     0.0  0.0   ...     \n",
       "5  20090727  0.0  0.0         0.0  0.0  0.0  0.0  0.0     0.0  0.0   ...     \n",
       "6  20090728  0.0  0.0         0.0  0.0  0.0  0.0  0.0     0.0  0.0   ...     \n",
       "7  20090729  0.0  0.0         0.0  0.0  0.0  0.0  0.0     0.0  0.0   ...     \n",
       "8  20090730  0.0  0.0         0.0  0.0  0.0  0.0  0.0     0.0  0.0   ...     \n",
       "9  20090731  0.0  0.0         0.0  0.0  0.0  0.0  0.0     0.0  0.0   ...     \n",
       "\n",
       "   zulu  zuma  zumas  zuni  zuoren  zurich  zurita  zvonko  zvyagintsev  \\\n",
       "0   0.0   0.0    0.0   0.0     0.0     0.0     0.0     0.0          0.0   \n",
       "1   0.0   0.0    0.0   0.0     0.0     0.0     0.0     0.0          0.0   \n",
       "2   0.0   0.0    0.0   0.0     0.0     0.0     0.0     0.0          0.0   \n",
       "3   0.0   0.0    0.0   0.0     0.0     0.0     0.0     0.0          0.0   \n",
       "4   0.0   0.0    0.0   0.0     0.0     0.0     0.0     0.0          0.0   \n",
       "5   0.0   0.0    0.0   0.0     0.0     0.0     0.0     0.0          0.0   \n",
       "6   0.0   0.0    0.0   0.0     0.0     0.0     0.0     0.0          0.0   \n",
       "7   0.0   0.0    0.0   0.0     0.0     0.0     0.0     0.0          0.0   \n",
       "8   0.0   0.0    0.0   0.0     0.0     0.0     0.0     0.0          0.0   \n",
       "9   0.0   1.0    0.0   0.0     0.0     0.0     0.0     0.0          0.0   \n",
       "\n",
       "   zygier  \n",
       "0     0.0  \n",
       "1     0.0  \n",
       "2     0.0  \n",
       "3     0.0  \n",
       "4     0.0  \n",
       "5     0.0  \n",
       "6     0.0  \n",
       "7     0.0  \n",
       "8     0.0  \n",
       "9     0.0  \n",
       "\n",
       "[10 rows x 40034 columns]"
      ]
     },
     "execution_count": 24,
     "metadata": {},
     "output_type": "execute_result"
    }
   ],
   "source": [
    "copy_filling_df.head(10)"
   ]
  },
  {
   "cell_type": "markdown",
   "metadata": {},
   "source": [
    "We are creating a simple table with only the rise and fall column and counts columns for both the text data and the financial data, respectively."
   ]
  },
  {
   "cell_type": "code",
   "execution_count": 25,
   "metadata": {},
   "outputs": [],
   "source": [
    "reset_copy_filling_df = copy_filling_df.reset_index()\n",
    "no_date_copy_filling_df = reset_copy_filling_df.drop([\"Date\"], axis=1)"
   ]
  },
  {
   "cell_type": "code",
   "execution_count": 26,
   "metadata": {},
   "outputs": [
    {
     "data": {
      "text/html": [
       "<div>\n",
       "<style scoped>\n",
       "    .dataframe tbody tr th:only-of-type {\n",
       "        vertical-align: middle;\n",
       "    }\n",
       "\n",
       "    .dataframe tbody tr th {\n",
       "        vertical-align: top;\n",
       "    }\n",
       "\n",
       "    .dataframe thead th {\n",
       "        text-align: right;\n",
       "    }\n",
       "</style>\n",
       "<table border=\"1\" class=\"dataframe\">\n",
       "  <thead>\n",
       "    <tr style=\"text-align: right;\">\n",
       "      <th></th>\n",
       "      <th>level_0</th>\n",
       "      <th>''</th>\n",
       "      <th>'91</th>\n",
       "      <th>'affluenza</th>\n",
       "      <th>'d</th>\n",
       "      <th>'n</th>\n",
       "      <th>'re</th>\n",
       "      <th>'s</th>\n",
       "      <th>'stand</th>\n",
       "      <th>*an</th>\n",
       "      <th>...</th>\n",
       "      <th>zulu</th>\n",
       "      <th>zuma</th>\n",
       "      <th>zumas</th>\n",
       "      <th>zuni</th>\n",
       "      <th>zuoren</th>\n",
       "      <th>zurich</th>\n",
       "      <th>zurita</th>\n",
       "      <th>zvonko</th>\n",
       "      <th>zvyagintsev</th>\n",
       "      <th>zygier</th>\n",
       "    </tr>\n",
       "  </thead>\n",
       "  <tbody>\n",
       "    <tr>\n",
       "      <th>0</th>\n",
       "      <td>0</td>\n",
       "      <td>0.0</td>\n",
       "      <td>0.0</td>\n",
       "      <td>0.0</td>\n",
       "      <td>0.0</td>\n",
       "      <td>0.0</td>\n",
       "      <td>0.0</td>\n",
       "      <td>0.0</td>\n",
       "      <td>0.0</td>\n",
       "      <td>0.0</td>\n",
       "      <td>...</td>\n",
       "      <td>0.0</td>\n",
       "      <td>0.0</td>\n",
       "      <td>0.0</td>\n",
       "      <td>0.0</td>\n",
       "      <td>0.0</td>\n",
       "      <td>0.0</td>\n",
       "      <td>0.0</td>\n",
       "      <td>0.0</td>\n",
       "      <td>0.0</td>\n",
       "      <td>0.0</td>\n",
       "    </tr>\n",
       "    <tr>\n",
       "      <th>1</th>\n",
       "      <td>1</td>\n",
       "      <td>0.0</td>\n",
       "      <td>0.0</td>\n",
       "      <td>0.0</td>\n",
       "      <td>0.0</td>\n",
       "      <td>0.0</td>\n",
       "      <td>0.0</td>\n",
       "      <td>0.0</td>\n",
       "      <td>0.0</td>\n",
       "      <td>0.0</td>\n",
       "      <td>...</td>\n",
       "      <td>0.0</td>\n",
       "      <td>0.0</td>\n",
       "      <td>0.0</td>\n",
       "      <td>0.0</td>\n",
       "      <td>0.0</td>\n",
       "      <td>0.0</td>\n",
       "      <td>0.0</td>\n",
       "      <td>0.0</td>\n",
       "      <td>0.0</td>\n",
       "      <td>0.0</td>\n",
       "    </tr>\n",
       "    <tr>\n",
       "      <th>2</th>\n",
       "      <td>2</td>\n",
       "      <td>0.0</td>\n",
       "      <td>0.0</td>\n",
       "      <td>0.0</td>\n",
       "      <td>0.0</td>\n",
       "      <td>0.0</td>\n",
       "      <td>0.0</td>\n",
       "      <td>0.0</td>\n",
       "      <td>0.0</td>\n",
       "      <td>0.0</td>\n",
       "      <td>...</td>\n",
       "      <td>0.0</td>\n",
       "      <td>0.0</td>\n",
       "      <td>0.0</td>\n",
       "      <td>0.0</td>\n",
       "      <td>0.0</td>\n",
       "      <td>0.0</td>\n",
       "      <td>0.0</td>\n",
       "      <td>0.0</td>\n",
       "      <td>0.0</td>\n",
       "      <td>0.0</td>\n",
       "    </tr>\n",
       "    <tr>\n",
       "      <th>3</th>\n",
       "      <td>3</td>\n",
       "      <td>0.0</td>\n",
       "      <td>0.0</td>\n",
       "      <td>0.0</td>\n",
       "      <td>0.0</td>\n",
       "      <td>0.0</td>\n",
       "      <td>0.0</td>\n",
       "      <td>0.0</td>\n",
       "      <td>0.0</td>\n",
       "      <td>0.0</td>\n",
       "      <td>...</td>\n",
       "      <td>0.0</td>\n",
       "      <td>0.0</td>\n",
       "      <td>0.0</td>\n",
       "      <td>0.0</td>\n",
       "      <td>0.0</td>\n",
       "      <td>0.0</td>\n",
       "      <td>0.0</td>\n",
       "      <td>0.0</td>\n",
       "      <td>0.0</td>\n",
       "      <td>0.0</td>\n",
       "    </tr>\n",
       "    <tr>\n",
       "      <th>4</th>\n",
       "      <td>4</td>\n",
       "      <td>0.0</td>\n",
       "      <td>0.0</td>\n",
       "      <td>0.0</td>\n",
       "      <td>0.0</td>\n",
       "      <td>0.0</td>\n",
       "      <td>0.0</td>\n",
       "      <td>0.0</td>\n",
       "      <td>0.0</td>\n",
       "      <td>0.0</td>\n",
       "      <td>...</td>\n",
       "      <td>0.0</td>\n",
       "      <td>0.0</td>\n",
       "      <td>0.0</td>\n",
       "      <td>0.0</td>\n",
       "      <td>0.0</td>\n",
       "      <td>0.0</td>\n",
       "      <td>0.0</td>\n",
       "      <td>0.0</td>\n",
       "      <td>0.0</td>\n",
       "      <td>0.0</td>\n",
       "    </tr>\n",
       "    <tr>\n",
       "      <th>5</th>\n",
       "      <td>5</td>\n",
       "      <td>0.0</td>\n",
       "      <td>0.0</td>\n",
       "      <td>0.0</td>\n",
       "      <td>0.0</td>\n",
       "      <td>0.0</td>\n",
       "      <td>0.0</td>\n",
       "      <td>0.0</td>\n",
       "      <td>0.0</td>\n",
       "      <td>0.0</td>\n",
       "      <td>...</td>\n",
       "      <td>0.0</td>\n",
       "      <td>0.0</td>\n",
       "      <td>0.0</td>\n",
       "      <td>0.0</td>\n",
       "      <td>0.0</td>\n",
       "      <td>0.0</td>\n",
       "      <td>0.0</td>\n",
       "      <td>0.0</td>\n",
       "      <td>0.0</td>\n",
       "      <td>0.0</td>\n",
       "    </tr>\n",
       "    <tr>\n",
       "      <th>6</th>\n",
       "      <td>6</td>\n",
       "      <td>0.0</td>\n",
       "      <td>0.0</td>\n",
       "      <td>0.0</td>\n",
       "      <td>0.0</td>\n",
       "      <td>0.0</td>\n",
       "      <td>0.0</td>\n",
       "      <td>0.0</td>\n",
       "      <td>0.0</td>\n",
       "      <td>0.0</td>\n",
       "      <td>...</td>\n",
       "      <td>0.0</td>\n",
       "      <td>0.0</td>\n",
       "      <td>0.0</td>\n",
       "      <td>0.0</td>\n",
       "      <td>0.0</td>\n",
       "      <td>0.0</td>\n",
       "      <td>0.0</td>\n",
       "      <td>0.0</td>\n",
       "      <td>0.0</td>\n",
       "      <td>0.0</td>\n",
       "    </tr>\n",
       "    <tr>\n",
       "      <th>7</th>\n",
       "      <td>7</td>\n",
       "      <td>0.0</td>\n",
       "      <td>0.0</td>\n",
       "      <td>0.0</td>\n",
       "      <td>0.0</td>\n",
       "      <td>0.0</td>\n",
       "      <td>0.0</td>\n",
       "      <td>0.0</td>\n",
       "      <td>0.0</td>\n",
       "      <td>0.0</td>\n",
       "      <td>...</td>\n",
       "      <td>0.0</td>\n",
       "      <td>0.0</td>\n",
       "      <td>0.0</td>\n",
       "      <td>0.0</td>\n",
       "      <td>0.0</td>\n",
       "      <td>0.0</td>\n",
       "      <td>0.0</td>\n",
       "      <td>0.0</td>\n",
       "      <td>0.0</td>\n",
       "      <td>0.0</td>\n",
       "    </tr>\n",
       "    <tr>\n",
       "      <th>8</th>\n",
       "      <td>8</td>\n",
       "      <td>0.0</td>\n",
       "      <td>0.0</td>\n",
       "      <td>0.0</td>\n",
       "      <td>0.0</td>\n",
       "      <td>0.0</td>\n",
       "      <td>0.0</td>\n",
       "      <td>0.0</td>\n",
       "      <td>0.0</td>\n",
       "      <td>0.0</td>\n",
       "      <td>...</td>\n",
       "      <td>0.0</td>\n",
       "      <td>0.0</td>\n",
       "      <td>0.0</td>\n",
       "      <td>0.0</td>\n",
       "      <td>0.0</td>\n",
       "      <td>0.0</td>\n",
       "      <td>0.0</td>\n",
       "      <td>0.0</td>\n",
       "      <td>0.0</td>\n",
       "      <td>0.0</td>\n",
       "    </tr>\n",
       "    <tr>\n",
       "      <th>9</th>\n",
       "      <td>9</td>\n",
       "      <td>0.0</td>\n",
       "      <td>0.0</td>\n",
       "      <td>0.0</td>\n",
       "      <td>0.0</td>\n",
       "      <td>0.0</td>\n",
       "      <td>0.0</td>\n",
       "      <td>0.0</td>\n",
       "      <td>0.0</td>\n",
       "      <td>0.0</td>\n",
       "      <td>...</td>\n",
       "      <td>0.0</td>\n",
       "      <td>1.0</td>\n",
       "      <td>0.0</td>\n",
       "      <td>0.0</td>\n",
       "      <td>0.0</td>\n",
       "      <td>0.0</td>\n",
       "      <td>0.0</td>\n",
       "      <td>0.0</td>\n",
       "      <td>0.0</td>\n",
       "      <td>0.0</td>\n",
       "    </tr>\n",
       "  </tbody>\n",
       "</table>\n",
       "<p>10 rows × 40034 columns</p>\n",
       "</div>"
      ],
      "text/plain": [
       "   level_0   ''  '91  'affluenza   'd   'n  're   's  'stand  *an   ...    \\\n",
       "0        0  0.0  0.0         0.0  0.0  0.0  0.0  0.0     0.0  0.0   ...     \n",
       "1        1  0.0  0.0         0.0  0.0  0.0  0.0  0.0     0.0  0.0   ...     \n",
       "2        2  0.0  0.0         0.0  0.0  0.0  0.0  0.0     0.0  0.0   ...     \n",
       "3        3  0.0  0.0         0.0  0.0  0.0  0.0  0.0     0.0  0.0   ...     \n",
       "4        4  0.0  0.0         0.0  0.0  0.0  0.0  0.0     0.0  0.0   ...     \n",
       "5        5  0.0  0.0         0.0  0.0  0.0  0.0  0.0     0.0  0.0   ...     \n",
       "6        6  0.0  0.0         0.0  0.0  0.0  0.0  0.0     0.0  0.0   ...     \n",
       "7        7  0.0  0.0         0.0  0.0  0.0  0.0  0.0     0.0  0.0   ...     \n",
       "8        8  0.0  0.0         0.0  0.0  0.0  0.0  0.0     0.0  0.0   ...     \n",
       "9        9  0.0  0.0         0.0  0.0  0.0  0.0  0.0     0.0  0.0   ...     \n",
       "\n",
       "   zulu  zuma  zumas  zuni  zuoren  zurich  zurita  zvonko  zvyagintsev  \\\n",
       "0   0.0   0.0    0.0   0.0     0.0     0.0     0.0     0.0          0.0   \n",
       "1   0.0   0.0    0.0   0.0     0.0     0.0     0.0     0.0          0.0   \n",
       "2   0.0   0.0    0.0   0.0     0.0     0.0     0.0     0.0          0.0   \n",
       "3   0.0   0.0    0.0   0.0     0.0     0.0     0.0     0.0          0.0   \n",
       "4   0.0   0.0    0.0   0.0     0.0     0.0     0.0     0.0          0.0   \n",
       "5   0.0   0.0    0.0   0.0     0.0     0.0     0.0     0.0          0.0   \n",
       "6   0.0   0.0    0.0   0.0     0.0     0.0     0.0     0.0          0.0   \n",
       "7   0.0   0.0    0.0   0.0     0.0     0.0     0.0     0.0          0.0   \n",
       "8   0.0   0.0    0.0   0.0     0.0     0.0     0.0     0.0          0.0   \n",
       "9   0.0   1.0    0.0   0.0     0.0     0.0     0.0     0.0          0.0   \n",
       "\n",
       "   zygier  \n",
       "0     0.0  \n",
       "1     0.0  \n",
       "2     0.0  \n",
       "3     0.0  \n",
       "4     0.0  \n",
       "5     0.0  \n",
       "6     0.0  \n",
       "7     0.0  \n",
       "8     0.0  \n",
       "9     0.0  \n",
       "\n",
       "[10 rows x 40034 columns]"
      ]
     },
     "execution_count": 26,
     "metadata": {},
     "output_type": "execute_result"
    }
   ],
   "source": [
    "no_date_copy_filling_df.head(10)"
   ]
  },
  {
   "cell_type": "code",
   "execution_count": 27,
   "metadata": {},
   "outputs": [],
   "source": [
    "copy_change_data = change_data"
   ]
  },
  {
   "cell_type": "code",
   "execution_count": 28,
   "metadata": {},
   "outputs": [
    {
     "data": {
      "text/html": [
       "<div>\n",
       "<style scoped>\n",
       "    .dataframe tbody tr th:only-of-type {\n",
       "        vertical-align: middle;\n",
       "    }\n",
       "\n",
       "    .dataframe tbody tr th {\n",
       "        vertical-align: top;\n",
       "    }\n",
       "\n",
       "    .dataframe thead th {\n",
       "        text-align: right;\n",
       "    }\n",
       "</style>\n",
       "<table border=\"1\" class=\"dataframe\">\n",
       "  <thead>\n",
       "    <tr style=\"text-align: right;\">\n",
       "      <th></th>\n",
       "      <th>Date</th>\n",
       "      <th>Change</th>\n",
       "    </tr>\n",
       "  </thead>\n",
       "  <tbody>\n",
       "    <tr>\n",
       "      <th>0</th>\n",
       "      <td>20090720</td>\n",
       "      <td>1</td>\n",
       "    </tr>\n",
       "    <tr>\n",
       "      <th>1</th>\n",
       "      <td>20090721</td>\n",
       "      <td>1</td>\n",
       "    </tr>\n",
       "    <tr>\n",
       "      <th>2</th>\n",
       "      <td>20090722</td>\n",
       "      <td>1</td>\n",
       "    </tr>\n",
       "    <tr>\n",
       "      <th>3</th>\n",
       "      <td>20090723</td>\n",
       "      <td>1</td>\n",
       "    </tr>\n",
       "    <tr>\n",
       "      <th>4</th>\n",
       "      <td>20090724</td>\n",
       "      <td>1</td>\n",
       "    </tr>\n",
       "    <tr>\n",
       "      <th>5</th>\n",
       "      <td>20090727</td>\n",
       "      <td>1</td>\n",
       "    </tr>\n",
       "    <tr>\n",
       "      <th>6</th>\n",
       "      <td>20090728</td>\n",
       "      <td>0</td>\n",
       "    </tr>\n",
       "    <tr>\n",
       "      <th>7</th>\n",
       "      <td>20090729</td>\n",
       "      <td>0</td>\n",
       "    </tr>\n",
       "    <tr>\n",
       "      <th>8</th>\n",
       "      <td>20090730</td>\n",
       "      <td>1</td>\n",
       "    </tr>\n",
       "    <tr>\n",
       "      <th>9</th>\n",
       "      <td>20090731</td>\n",
       "      <td>1</td>\n",
       "    </tr>\n",
       "  </tbody>\n",
       "</table>\n",
       "</div>"
      ],
      "text/plain": [
       "       Date  Change\n",
       "0  20090720       1\n",
       "1  20090721       1\n",
       "2  20090722       1\n",
       "3  20090723       1\n",
       "4  20090724       1\n",
       "5  20090727       1\n",
       "6  20090728       0\n",
       "7  20090729       0\n",
       "8  20090730       1\n",
       "9  20090731       1"
      ]
     },
     "execution_count": 28,
     "metadata": {},
     "output_type": "execute_result"
    }
   ],
   "source": [
    "copy_change_data.head(10)"
   ]
  },
  {
   "cell_type": "code",
   "execution_count": 29,
   "metadata": {},
   "outputs": [],
   "source": [
    "no_date_copy_change_data = copy_change_data.drop([\"Date\"], axis=1)"
   ]
  },
  {
   "cell_type": "code",
   "execution_count": 30,
   "metadata": {},
   "outputs": [
    {
     "data": {
      "text/html": [
       "<div>\n",
       "<style scoped>\n",
       "    .dataframe tbody tr th:only-of-type {\n",
       "        vertical-align: middle;\n",
       "    }\n",
       "\n",
       "    .dataframe tbody tr th {\n",
       "        vertical-align: top;\n",
       "    }\n",
       "\n",
       "    .dataframe thead th {\n",
       "        text-align: right;\n",
       "    }\n",
       "</style>\n",
       "<table border=\"1\" class=\"dataframe\">\n",
       "  <thead>\n",
       "    <tr style=\"text-align: right;\">\n",
       "      <th></th>\n",
       "      <th>Change</th>\n",
       "    </tr>\n",
       "  </thead>\n",
       "  <tbody>\n",
       "    <tr>\n",
       "      <th>0</th>\n",
       "      <td>1</td>\n",
       "    </tr>\n",
       "    <tr>\n",
       "      <th>1</th>\n",
       "      <td>1</td>\n",
       "    </tr>\n",
       "    <tr>\n",
       "      <th>2</th>\n",
       "      <td>1</td>\n",
       "    </tr>\n",
       "    <tr>\n",
       "      <th>3</th>\n",
       "      <td>1</td>\n",
       "    </tr>\n",
       "    <tr>\n",
       "      <th>4</th>\n",
       "      <td>1</td>\n",
       "    </tr>\n",
       "    <tr>\n",
       "      <th>5</th>\n",
       "      <td>1</td>\n",
       "    </tr>\n",
       "    <tr>\n",
       "      <th>6</th>\n",
       "      <td>0</td>\n",
       "    </tr>\n",
       "    <tr>\n",
       "      <th>7</th>\n",
       "      <td>0</td>\n",
       "    </tr>\n",
       "    <tr>\n",
       "      <th>8</th>\n",
       "      <td>1</td>\n",
       "    </tr>\n",
       "    <tr>\n",
       "      <th>9</th>\n",
       "      <td>1</td>\n",
       "    </tr>\n",
       "  </tbody>\n",
       "</table>\n",
       "</div>"
      ],
      "text/plain": [
       "   Change\n",
       "0       1\n",
       "1       1\n",
       "2       1\n",
       "3       1\n",
       "4       1\n",
       "5       1\n",
       "6       0\n",
       "7       0\n",
       "8       1\n",
       "9       1"
      ]
     },
     "execution_count": 30,
     "metadata": {},
     "output_type": "execute_result"
    }
   ],
   "source": [
    "no_date_copy_change_data.head(10)"
   ]
  },
  {
   "cell_type": "markdown",
   "metadata": {},
   "source": [
    "<h3>Test prediction with Random Forest</h3>"
   ]
  },
  {
   "cell_type": "code",
   "execution_count": 31,
   "metadata": {},
   "outputs": [
    {
     "data": {
      "text/plain": [
       "array([0.51190476, 0.50595238, 0.48809524, 0.49502982, 0.51093439])"
      ]
     },
     "execution_count": 31,
     "metadata": {},
     "output_type": "execute_result"
    }
   ],
   "source": [
    "rf = RandomForestClassifier(n_jobs=-1)\n",
    "k_fold = KFold(n_splits=5)\n",
    "cross_val_score(rf, no_date_copy_filling_df, no_date_copy_change_data[\"Change\"], cv=k_fold, scoring=\"accuracy\", n_jobs=-1)"
   ]
  },
  {
   "cell_type": "code",
   "execution_count": 32,
   "metadata": {},
   "outputs": [
    {
     "data": {
      "text/plain": [
       "0.505559498"
      ]
     },
     "execution_count": 32,
     "metadata": {},
     "output_type": "execute_result"
    }
   ],
   "source": [
    "sum([0.51190476, 0.50198413, 0.50396825, 0.48508946, 0.52485089]) / 5.0"
   ]
  },
  {
   "cell_type": "markdown",
   "metadata": {},
   "source": [
    "Calculate the percentage of days that the market increased."
   ]
  },
  {
   "cell_type": "code",
   "execution_count": 33,
   "metadata": {},
   "outputs": [
    {
     "name": "stdout",
     "output_type": "stream",
     "text": [
      "1373.0\n",
      "0.545274027006\n"
     ]
    }
   ],
   "source": [
    "total = 0\n",
    "for i in range(len(no_date_copy_change_data)):\n",
    "    if no_date_copy_change_data[\"Change\"][i] == 1:\n",
    "        total += 1.0\n",
    "print total\n",
    "print total / len(no_date_copy_change_data)"
   ]
  },
  {
   "cell_type": "markdown",
   "metadata": {},
   "source": [
    "Thus, the random forest model performed slightly worse than guessing the market always increased.  Try TD-IDF to attempt at improving the prediction"
   ]
  },
  {
   "cell_type": "markdown",
   "metadata": {},
   "source": [
    "<h2>TD-IDF</h2>"
   ]
  },
  {
   "cell_type": "markdown",
   "metadata": {},
   "source": [
    "Transform the counts data to TD-IDF"
   ]
  },
  {
   "cell_type": "code",
   "execution_count": 34,
   "metadata": {},
   "outputs": [],
   "source": [
    "transformer = TfidfTransformer()\n",
    "tdidf = transformer.fit_transform(no_date_copy_filling_df)"
   ]
  },
  {
   "cell_type": "markdown",
   "metadata": {},
   "source": [
    "<h3>Test for prediction with Random Forest</h3>"
   ]
  },
  {
   "cell_type": "code",
   "execution_count": 35,
   "metadata": {},
   "outputs": [
    {
     "data": {
      "text/plain": [
       "array([0.46825397, 0.49007937, 0.5       , 0.49701789, 0.48707753])"
      ]
     },
     "execution_count": 35,
     "metadata": {},
     "output_type": "execute_result"
    }
   ],
   "source": [
    "rf = RandomForestClassifier(n_jobs=-1)\n",
    "k_fold = KFold(n_splits=5)\n",
    "cross_val_score(rf, tdidf, no_date_copy_change_data[\"Change\"], cv=k_fold, scoring=\"accuracy\", n_jobs=-1)"
   ]
  },
  {
   "cell_type": "code",
   "execution_count": 36,
   "metadata": {},
   "outputs": [
    {
     "data": {
      "text/plain": [
       "0.49085487"
      ]
     },
     "execution_count": 36,
     "metadata": {},
     "output_type": "execute_result"
    }
   ],
   "source": [
    "sum([0.5515873 , 0.4702381 , 0.4781746 , 0.48111332, 0.47316103]) / 5.0"
   ]
  },
  {
   "cell_type": "markdown",
   "metadata": {},
   "source": [
    "The model performed a little worse with TD-IDF compared to count vectorizing.  The next step is to increase the window of analysis."
   ]
  },
  {
   "cell_type": "markdown",
   "metadata": {},
   "source": [
    "<h1>Stock Market Predictions for Five Days</h1>"
   ]
  },
  {
   "cell_type": "markdown",
   "metadata": {},
   "source": [
    "To try to improve the accuracy of the model, the news from five stock market trading days was pooled, and the change in the S&P 500 was calculated with this new window to train the model."
   ]
  },
  {
   "cell_type": "markdown",
   "metadata": {},
   "source": [
    "First, read in the count vectorized table for comparison"
   ]
  },
  {
   "cell_type": "code",
   "execution_count": 37,
   "metadata": {},
   "outputs": [],
   "source": [
    "data = pd.read_csv('20190722NYTimesDataANSII.csv', delimiter=',')"
   ]
  },
  {
   "cell_type": "code",
   "execution_count": 38,
   "metadata": {
    "scrolled": true
   },
   "outputs": [
    {
     "data": {
      "text/html": [
       "<div>\n",
       "<style scoped>\n",
       "    .dataframe tbody tr th:only-of-type {\n",
       "        vertical-align: middle;\n",
       "    }\n",
       "\n",
       "    .dataframe tbody tr th {\n",
       "        vertical-align: top;\n",
       "    }\n",
       "\n",
       "    .dataframe thead th {\n",
       "        text-align: right;\n",
       "    }\n",
       "</style>\n",
       "<table border=\"1\" class=\"dataframe\">\n",
       "  <thead>\n",
       "    <tr style=\"text-align: right;\">\n",
       "      <th></th>\n",
       "      <th>Date</th>\n",
       "      <th>''</th>\n",
       "      <th>'91</th>\n",
       "      <th>'affluenza</th>\n",
       "      <th>'d</th>\n",
       "      <th>'n</th>\n",
       "      <th>'re</th>\n",
       "      <th>'s</th>\n",
       "      <th>'stand</th>\n",
       "      <th>*an</th>\n",
       "      <th>...</th>\n",
       "      <th>zulu</th>\n",
       "      <th>zuma</th>\n",
       "      <th>zumas</th>\n",
       "      <th>zuni</th>\n",
       "      <th>zuoren</th>\n",
       "      <th>zurich</th>\n",
       "      <th>zurita</th>\n",
       "      <th>zvonko</th>\n",
       "      <th>zvyagintsev</th>\n",
       "      <th>zygier</th>\n",
       "    </tr>\n",
       "  </thead>\n",
       "  <tbody>\n",
       "    <tr>\n",
       "      <th>0</th>\n",
       "      <td>20090720</td>\n",
       "      <td>0.0</td>\n",
       "      <td>0.0</td>\n",
       "      <td>0.0</td>\n",
       "      <td>0.0</td>\n",
       "      <td>0.0</td>\n",
       "      <td>0.0</td>\n",
       "      <td>0.0</td>\n",
       "      <td>0.0</td>\n",
       "      <td>0.0</td>\n",
       "      <td>...</td>\n",
       "      <td>0.0</td>\n",
       "      <td>0.0</td>\n",
       "      <td>0.0</td>\n",
       "      <td>0.0</td>\n",
       "      <td>0.0</td>\n",
       "      <td>0.0</td>\n",
       "      <td>0.0</td>\n",
       "      <td>0.0</td>\n",
       "      <td>0.0</td>\n",
       "      <td>0.0</td>\n",
       "    </tr>\n",
       "    <tr>\n",
       "      <th>1</th>\n",
       "      <td>20090721</td>\n",
       "      <td>0.0</td>\n",
       "      <td>0.0</td>\n",
       "      <td>0.0</td>\n",
       "      <td>0.0</td>\n",
       "      <td>0.0</td>\n",
       "      <td>0.0</td>\n",
       "      <td>0.0</td>\n",
       "      <td>0.0</td>\n",
       "      <td>0.0</td>\n",
       "      <td>...</td>\n",
       "      <td>0.0</td>\n",
       "      <td>0.0</td>\n",
       "      <td>0.0</td>\n",
       "      <td>0.0</td>\n",
       "      <td>0.0</td>\n",
       "      <td>0.0</td>\n",
       "      <td>0.0</td>\n",
       "      <td>0.0</td>\n",
       "      <td>0.0</td>\n",
       "      <td>0.0</td>\n",
       "    </tr>\n",
       "    <tr>\n",
       "      <th>2</th>\n",
       "      <td>20090722</td>\n",
       "      <td>0.0</td>\n",
       "      <td>0.0</td>\n",
       "      <td>0.0</td>\n",
       "      <td>0.0</td>\n",
       "      <td>0.0</td>\n",
       "      <td>0.0</td>\n",
       "      <td>0.0</td>\n",
       "      <td>0.0</td>\n",
       "      <td>0.0</td>\n",
       "      <td>...</td>\n",
       "      <td>0.0</td>\n",
       "      <td>0.0</td>\n",
       "      <td>0.0</td>\n",
       "      <td>0.0</td>\n",
       "      <td>0.0</td>\n",
       "      <td>0.0</td>\n",
       "      <td>0.0</td>\n",
       "      <td>0.0</td>\n",
       "      <td>0.0</td>\n",
       "      <td>0.0</td>\n",
       "    </tr>\n",
       "    <tr>\n",
       "      <th>3</th>\n",
       "      <td>20090723</td>\n",
       "      <td>0.0</td>\n",
       "      <td>0.0</td>\n",
       "      <td>0.0</td>\n",
       "      <td>0.0</td>\n",
       "      <td>0.0</td>\n",
       "      <td>0.0</td>\n",
       "      <td>0.0</td>\n",
       "      <td>0.0</td>\n",
       "      <td>0.0</td>\n",
       "      <td>...</td>\n",
       "      <td>0.0</td>\n",
       "      <td>0.0</td>\n",
       "      <td>0.0</td>\n",
       "      <td>0.0</td>\n",
       "      <td>0.0</td>\n",
       "      <td>0.0</td>\n",
       "      <td>0.0</td>\n",
       "      <td>0.0</td>\n",
       "      <td>0.0</td>\n",
       "      <td>0.0</td>\n",
       "    </tr>\n",
       "    <tr>\n",
       "      <th>4</th>\n",
       "      <td>20090724</td>\n",
       "      <td>0.0</td>\n",
       "      <td>0.0</td>\n",
       "      <td>0.0</td>\n",
       "      <td>0.0</td>\n",
       "      <td>0.0</td>\n",
       "      <td>0.0</td>\n",
       "      <td>0.0</td>\n",
       "      <td>0.0</td>\n",
       "      <td>0.0</td>\n",
       "      <td>...</td>\n",
       "      <td>0.0</td>\n",
       "      <td>0.0</td>\n",
       "      <td>0.0</td>\n",
       "      <td>0.0</td>\n",
       "      <td>0.0</td>\n",
       "      <td>0.0</td>\n",
       "      <td>0.0</td>\n",
       "      <td>0.0</td>\n",
       "      <td>0.0</td>\n",
       "      <td>0.0</td>\n",
       "    </tr>\n",
       "  </tbody>\n",
       "</table>\n",
       "<p>5 rows × 40034 columns</p>\n",
       "</div>"
      ],
      "text/plain": [
       "       Date   ''  '91  'affluenza   'd   'n  're   's  'stand  *an   ...    \\\n",
       "0  20090720  0.0  0.0         0.0  0.0  0.0  0.0  0.0     0.0  0.0   ...     \n",
       "1  20090721  0.0  0.0         0.0  0.0  0.0  0.0  0.0     0.0  0.0   ...     \n",
       "2  20090722  0.0  0.0         0.0  0.0  0.0  0.0  0.0     0.0  0.0   ...     \n",
       "3  20090723  0.0  0.0         0.0  0.0  0.0  0.0  0.0     0.0  0.0   ...     \n",
       "4  20090724  0.0  0.0         0.0  0.0  0.0  0.0  0.0     0.0  0.0   ...     \n",
       "\n",
       "   zulu  zuma  zumas  zuni  zuoren  zurich  zurita  zvonko  zvyagintsev  \\\n",
       "0   0.0   0.0    0.0   0.0     0.0     0.0     0.0     0.0          0.0   \n",
       "1   0.0   0.0    0.0   0.0     0.0     0.0     0.0     0.0          0.0   \n",
       "2   0.0   0.0    0.0   0.0     0.0     0.0     0.0     0.0          0.0   \n",
       "3   0.0   0.0    0.0   0.0     0.0     0.0     0.0     0.0          0.0   \n",
       "4   0.0   0.0    0.0   0.0     0.0     0.0     0.0     0.0          0.0   \n",
       "\n",
       "   zygier  \n",
       "0     0.0  \n",
       "1     0.0  \n",
       "2     0.0  \n",
       "3     0.0  \n",
       "4     0.0  \n",
       "\n",
       "[5 rows x 40034 columns]"
      ]
     },
     "execution_count": 38,
     "metadata": {},
     "output_type": "execute_result"
    }
   ],
   "source": [
    "data.head()"
   ]
  },
  {
   "cell_type": "markdown",
   "metadata": {},
   "source": [
    "Next, read in from file the full text of the abstracts.  These abstracts are from every trading day"
   ]
  },
  {
   "cell_type": "code",
   "execution_count": 39,
   "metadata": {},
   "outputs": [],
   "source": [
    "text_data = pd.read_csv('20190722NYTimesFullTextANSII_copy.csv', delimiter=',')"
   ]
  },
  {
   "cell_type": "code",
   "execution_count": 40,
   "metadata": {},
   "outputs": [
    {
     "data": {
      "text/html": [
       "<div>\n",
       "<style scoped>\n",
       "    .dataframe tbody tr th:only-of-type {\n",
       "        vertical-align: middle;\n",
       "    }\n",
       "\n",
       "    .dataframe tbody tr th {\n",
       "        vertical-align: top;\n",
       "    }\n",
       "\n",
       "    .dataframe thead th {\n",
       "        text-align: right;\n",
       "    }\n",
       "</style>\n",
       "<table border=\"1\" class=\"dataframe\">\n",
       "  <thead>\n",
       "    <tr style=\"text-align: right;\">\n",
       "      <th></th>\n",
       "      <th>Date</th>\n",
       "      <th>Text</th>\n",
       "    </tr>\n",
       "  </thead>\n",
       "  <tbody>\n",
       "    <tr>\n",
       "      <th>0</th>\n",
       "      <td>20090720</td>\n",
       "      <td>A broken toilet pump that was contaminating pa...</td>\n",
       "    </tr>\n",
       "    <tr>\n",
       "      <th>1</th>\n",
       "      <td>20090721</td>\n",
       "      <td>Drug makers, advocacy groups, biotechnology fi...</td>\n",
       "    </tr>\n",
       "    <tr>\n",
       "      <th>2</th>\n",
       "      <td>20090722</td>\n",
       "      <td>A federal judge has ordered the Obama administ...</td>\n",
       "    </tr>\n",
       "    <tr>\n",
       "      <th>3</th>\n",
       "      <td>20090723</td>\n",
       "      <td>Two years after the massacre at Virginia Tech,...</td>\n",
       "    </tr>\n",
       "    <tr>\n",
       "      <th>4</th>\n",
       "      <td>20090724</td>\n",
       "      <td>After once spending his Sundays in football st...</td>\n",
       "    </tr>\n",
       "  </tbody>\n",
       "</table>\n",
       "</div>"
      ],
      "text/plain": [
       "       Date                                               Text\n",
       "0  20090720  A broken toilet pump that was contaminating pa...\n",
       "1  20090721  Drug makers, advocacy groups, biotechnology fi...\n",
       "2  20090722  A federal judge has ordered the Obama administ...\n",
       "3  20090723  Two years after the massacre at Virginia Tech,...\n",
       "4  20090724  After once spending his Sundays in football st..."
      ]
     },
     "execution_count": 40,
     "metadata": {},
     "output_type": "execute_result"
    }
   ],
   "source": [
    "text_data.head()"
   ]
  },
  {
   "cell_type": "code",
   "execution_count": 41,
   "metadata": {},
   "outputs": [],
   "source": [
    "text_data['Date'] = text_data['Date'].map(lambda date: parser.parse(str(date)))"
   ]
  },
  {
   "cell_type": "code",
   "execution_count": 42,
   "metadata": {},
   "outputs": [
    {
     "data": {
      "text/html": [
       "<div>\n",
       "<style scoped>\n",
       "    .dataframe tbody tr th:only-of-type {\n",
       "        vertical-align: middle;\n",
       "    }\n",
       "\n",
       "    .dataframe tbody tr th {\n",
       "        vertical-align: top;\n",
       "    }\n",
       "\n",
       "    .dataframe thead th {\n",
       "        text-align: right;\n",
       "    }\n",
       "</style>\n",
       "<table border=\"1\" class=\"dataframe\">\n",
       "  <thead>\n",
       "    <tr style=\"text-align: right;\">\n",
       "      <th></th>\n",
       "      <th>Date</th>\n",
       "      <th>Text</th>\n",
       "    </tr>\n",
       "  </thead>\n",
       "  <tbody>\n",
       "    <tr>\n",
       "      <th>0</th>\n",
       "      <td>2009-07-20</td>\n",
       "      <td>A broken toilet pump that was contaminating pa...</td>\n",
       "    </tr>\n",
       "    <tr>\n",
       "      <th>1</th>\n",
       "      <td>2009-07-21</td>\n",
       "      <td>Drug makers, advocacy groups, biotechnology fi...</td>\n",
       "    </tr>\n",
       "    <tr>\n",
       "      <th>2</th>\n",
       "      <td>2009-07-22</td>\n",
       "      <td>A federal judge has ordered the Obama administ...</td>\n",
       "    </tr>\n",
       "    <tr>\n",
       "      <th>3</th>\n",
       "      <td>2009-07-23</td>\n",
       "      <td>Two years after the massacre at Virginia Tech,...</td>\n",
       "    </tr>\n",
       "    <tr>\n",
       "      <th>4</th>\n",
       "      <td>2009-07-24</td>\n",
       "      <td>After once spending his Sundays in football st...</td>\n",
       "    </tr>\n",
       "  </tbody>\n",
       "</table>\n",
       "</div>"
      ],
      "text/plain": [
       "        Date                                               Text\n",
       "0 2009-07-20  A broken toilet pump that was contaminating pa...\n",
       "1 2009-07-21  Drug makers, advocacy groups, biotechnology fi...\n",
       "2 2009-07-22  A federal judge has ordered the Obama administ...\n",
       "3 2009-07-23  Two years after the massacre at Virginia Tech,...\n",
       "4 2009-07-24  After once spending his Sundays in football st..."
      ]
     },
     "execution_count": 42,
     "metadata": {},
     "output_type": "execute_result"
    }
   ],
   "source": [
    "text_data.head()"
   ]
  },
  {
   "cell_type": "markdown",
   "metadata": {},
   "source": [
    "There are 2518 days of news.  This is the same as the number of days of financial data.  This is reduced to 503 entries for both the text and financial news after grouping in five day periods (there are a few days left over)"
   ]
  },
  {
   "cell_type": "code",
   "execution_count": 43,
   "metadata": {},
   "outputs": [
    {
     "data": {
      "text/plain": [
       "2518"
      ]
     },
     "execution_count": 43,
     "metadata": {},
     "output_type": "execute_result"
    }
   ],
   "source": [
    "len(text_data)"
   ]
  },
  {
   "cell_type": "code",
   "execution_count": 44,
   "metadata": {},
   "outputs": [],
   "source": [
    "weekly_text_data = pd.DataFrame()"
   ]
  },
  {
   "cell_type": "code",
   "execution_count": 45,
   "metadata": {},
   "outputs": [],
   "source": [
    "for i in range(0, 2514, 5):\n",
    "    week_of_news = \"\"\n",
    "    for j in range(5):\n",
    "        week_of_news += text_data.loc[i + j, \"Text\"]\n",
    "    weekly_text_data.loc[i / 5, \"Text\"] = week_of_news\n",
    "    weekly_text_data.loc[i / 5, \"Date\"] = text_data.loc[i, \"Date\"]"
   ]
  },
  {
   "cell_type": "markdown",
   "metadata": {},
   "source": [
    "This shows the grouping of news in approximately a weekly basis"
   ]
  },
  {
   "cell_type": "code",
   "execution_count": 46,
   "metadata": {
    "scrolled": false
   },
   "outputs": [
    {
     "data": {
      "text/html": [
       "<div>\n",
       "<style scoped>\n",
       "    .dataframe tbody tr th:only-of-type {\n",
       "        vertical-align: middle;\n",
       "    }\n",
       "\n",
       "    .dataframe tbody tr th {\n",
       "        vertical-align: top;\n",
       "    }\n",
       "\n",
       "    .dataframe thead th {\n",
       "        text-align: right;\n",
       "    }\n",
       "</style>\n",
       "<table border=\"1\" class=\"dataframe\">\n",
       "  <thead>\n",
       "    <tr style=\"text-align: right;\">\n",
       "      <th></th>\n",
       "      <th>Text</th>\n",
       "      <th>Date</th>\n",
       "    </tr>\n",
       "  </thead>\n",
       "  <tbody>\n",
       "    <tr>\n",
       "      <th>0</th>\n",
       "      <td>A broken toilet pump that was contaminating pa...</td>\n",
       "      <td>2009-07-20</td>\n",
       "    </tr>\n",
       "    <tr>\n",
       "      <th>1</th>\n",
       "      <td>The president will be in Virginia to talk abou...</td>\n",
       "      <td>2009-07-27</td>\n",
       "    </tr>\n",
       "    <tr>\n",
       "      <th>2</th>\n",
       "      <td>Camp David offers more than respite; its bowli...</td>\n",
       "      <td>2009-08-03</td>\n",
       "    </tr>\n",
       "    <tr>\n",
       "      <th>3</th>\n",
       "      <td>The Los Angeles County coroners office said it...</td>\n",
       "      <td>2009-08-10</td>\n",
       "    </tr>\n",
       "    <tr>\n",
       "      <th>4</th>\n",
       "      <td>On President Obamas daybook: A meeting with hi...</td>\n",
       "      <td>2009-08-17</td>\n",
       "    </tr>\n",
       "  </tbody>\n",
       "</table>\n",
       "</div>"
      ],
      "text/plain": [
       "                                                Text       Date\n",
       "0  A broken toilet pump that was contaminating pa... 2009-07-20\n",
       "1  The president will be in Virginia to talk abou... 2009-07-27\n",
       "2  Camp David offers more than respite; its bowli... 2009-08-03\n",
       "3  The Los Angeles County coroners office said it... 2009-08-10\n",
       "4  On President Obamas daybook: A meeting with hi... 2009-08-17"
      ]
     },
     "execution_count": 46,
     "metadata": {},
     "output_type": "execute_result"
    }
   ],
   "source": [
    "weekly_text_data.head()"
   ]
  },
  {
   "cell_type": "code",
   "execution_count": 47,
   "metadata": {},
   "outputs": [
    {
     "data": {
      "text/html": [
       "<div>\n",
       "<style scoped>\n",
       "    .dataframe tbody tr th:only-of-type {\n",
       "        vertical-align: middle;\n",
       "    }\n",
       "\n",
       "    .dataframe tbody tr th {\n",
       "        vertical-align: top;\n",
       "    }\n",
       "\n",
       "    .dataframe thead th {\n",
       "        text-align: right;\n",
       "    }\n",
       "</style>\n",
       "<table border=\"1\" class=\"dataframe\">\n",
       "  <thead>\n",
       "    <tr style=\"text-align: right;\">\n",
       "      <th></th>\n",
       "      <th>Text</th>\n",
       "      <th>Date</th>\n",
       "    </tr>\n",
       "  </thead>\n",
       "  <tbody>\n",
       "    <tr>\n",
       "      <th>498</th>\n",
       "      <td>A newly disclosed investigation suggests that ...</td>\n",
       "      <td>2019-06-11</td>\n",
       "    </tr>\n",
       "    <tr>\n",
       "      <th>499</th>\n",
       "      <td>Were interested in hearing from students who h...</td>\n",
       "      <td>2019-06-18</td>\n",
       "    </tr>\n",
       "    <tr>\n",
       "      <th>500</th>\n",
       "      <td>Some 500 Wayfair employees signed a letter ask...</td>\n",
       "      <td>2019-06-25</td>\n",
       "    </tr>\n",
       "    <tr>\n",
       "      <th>501</th>\n",
       "      <td>The chief was convicted of a single charge for...</td>\n",
       "      <td>2019-07-02</td>\n",
       "    </tr>\n",
       "    <tr>\n",
       "      <th>502</th>\n",
       "      <td>Julia Keleher, Puerto Ricos former education s...</td>\n",
       "      <td>2019-07-10</td>\n",
       "    </tr>\n",
       "  </tbody>\n",
       "</table>\n",
       "</div>"
      ],
      "text/plain": [
       "                                                  Text       Date\n",
       "498  A newly disclosed investigation suggests that ... 2019-06-11\n",
       "499  Were interested in hearing from students who h... 2019-06-18\n",
       "500  Some 500 Wayfair employees signed a letter ask... 2019-06-25\n",
       "501  The chief was convicted of a single charge for... 2019-07-02\n",
       "502  Julia Keleher, Puerto Ricos former education s... 2019-07-10"
      ]
     },
     "execution_count": 47,
     "metadata": {},
     "output_type": "execute_result"
    }
   ],
   "source": [
    "weekly_text_data.tail()"
   ]
  },
  {
   "cell_type": "markdown",
   "metadata": {},
   "source": [
    "Here is an example of abstracts collected for approximately one week"
   ]
  },
  {
   "cell_type": "code",
   "execution_count": 48,
   "metadata": {
    "scrolled": true
   },
   "outputs": [
    {
     "data": {
      "text/plain": [
       "'A broken toilet pump that was contaminating part of the system was repaired on Monday. The Obama administration finds that it is easier to pledge transparency, than to produce it, on stimulus money. The Department of Defense has identified 4,319 American service members who have died since the start of the Iraq war. It confirmed the death of the following American on Monday:. A Supreme Court case that was, on its face, about the Sept. 11 attacks could make suits much easier to dismiss. The president recognizes the 40th anniversary of the moon landing. The president makes reference to a Republican senators declaration that this reform proposal would be Mr. Obamas Waterloo. The Maryland Democrat fell and fractured her ankle in three places. A conservative law professor is emerging as the leading legal advocate for local governments taking on enforcement roles from the federal government. The R.N.C. begins an ad campaign featuring the costs of health care, while insurance lobbyists push for universal care. Congressional leaders suggested scaling back a plan to tax top earners and signaled a retreat from their timetable. As Irans leaders splinter over the election crisis, the Islamic Revolutionary Guards Corps is working to crush the opposition. A U.S. presence along the Georgian border with South Ossetia and Abkhazia could deter aggression from Russian or separatist forces, a Georgian official said. Ayatollah Ali Khameneis warning on Monday was an apparent rebuke to two former presidents who have criticized the handling of the disputed presidential election. Seven Iraqi police officers and three civilians were shot dead in a series of six attacks by gunmen on Monday in Mosul and Ramadi, security officials said. Cambodias courts have been busy with defamation and incitement cases brought by the government. Twelve of the nearly 200 people killed during an ethnic riot in the city of Urumqi on July 5 were shot by Chinese security forces, the state news agency reported over the weekend. Britain lowered its terrorism alert by a notch Monday to its lowest level since 2005, just before the bombings in London that year. Its a remarkable breach of convention when close and very dependent allies of the U.S. state their anxieties about being sold out to Russia. The only survivor among the team of gunmen who killed more than 160 people in November offered a dramatic and unexpected confession. The deaths of four soldiers made July the deadliest month for American service members since the 2001 invasion. Drug makers, advocacy groups, biotechnology firms and insurance companies have ratcheted up efforts to offer their two centsand in most cases much, much morein influencing health care legislation. Three decades of population growth, budget problems and the rising cost of social services are being felt in California. Officials across the state criticized a deal that leans heavily on counties and cities to fill a $26 billion budget gap, with some vowing to fight the move in court. The business organization sponsors a multimillion-dollar advertising campaign against any measure that would include a public plan. The majority may not be able to muster enough votes to thwart the Republican bill, which has backing from Democrats, too. Disorderly conduct charges are being dropped against Prof. Henry Louis Gates Jr., a leading scholar. The West Virginia Democrat had not voted since mid-May, because he was hospitalized and is now recuperating. Fiscally conservative House Democrats forced leaders of their party to slow the pace of work on legislation to overhaul health care to consider the cost. Roll Call Group will buy its competitor, Congressional Quarterly, the two companies announced Tuesday, but it is not clear how much they will combine operations or eliminate overlapping jobs. The president also met privately with members of the House Energy and Commerce Committee, which has yet to pass its own health bill. The Shabab, a militia that has taken over much of southern Somalia, is considered a threat to Westerners living in Kenya. The visit was part of continuing talks between Spain, Britain and Gibraltar aimed at easing the flow of people, goods and communications between the tiny British enclave and Spain. Mere reports of a Namibian investigation involving a Chinese company recently headed by the son of Chinas president have put Chinese censors into action. Bombings also wounded scores of people around the capital on Tuesday, Iraqi security officials said. Secretary of State Hillary Rodham Clinton voiced concern about what she called signs of military cooperation. The Taliban claimed responsibility as eight suicide attackers assaulted government compounds on Tuesday. A judge must decide whether to put a quick end to the trial of the lone surviving gunman from last years attacks in Mumbai, India.  The second mass trial of secularists charged with plotting to topple the religiously conservative government began Monday, with two retired generals among the 56 defendants. Prosecutors accuse the defendants of associating with the ultranationalist group Ergenekon. The first trial, with 86 defendants, opened in October.   A leading Italian news magazine and a leading newspaper published audio tapes and transcripts on Monday of what they said were suggestive conversations between Prime Minister Silvio Berlusconi and an escort who has said she was paid to attend parties at his official residence. Mr. Berlusconi has said he did not know the woman was an escort. Mr. Berlusconis lawyer, Nicol Ghedini, questioned the authenticity of the tapes, and said he would evaluate whether to take legal action against the publications, La Repubblica and LEspresso, the ANSA news agency reported. Barinas is the setting for a terrifying surge in abductions, making it a contender for Latin Americas most likely place to get kidnapped. A federal judge has ordered the Obama administration to defend its case against a young Afghan man held at Guantnamo Bay, Cuba. As demand for clean energy grows, towns are finding their traffic patterns roiled by convoys carrying huge windmills. Stay with us for updates throughout the presidents news conference. The president talks a lot about health care in his prepared statements for tonight. Health care dominates whats on peoples minds. The records for Seung-Hui Cho have been discovered in the home of the former director of Virginia Techs counseling clinic. At a Washington story-time event, Marian Robinson, the mother-in-law of President Obama, read a book to schoolchildren and spoke wistfully about watching her granddaughters grow up. A lawyer for Dr. Conrad Murray said the authorities were looking for evidence of manslaughter. The Senate rejected a measure that would have allowed people to carry concealed weapons across some state lines. Under sentencing laws and the declining use of parole, nearly 10 percent of U.S. inmates in 2008 were serving a life sentence. President Obama said the U.S. was on track to withdraw combat forces from Iraq by August 2010. An international court redefined the borders of a disputed oil-rich region between north and south Sudan. Poker, formerly classified as an official sport and not subject to the ban, was reclassified as illegal this week in Moscow. Amid growing attacks on his personal life, the prime minister shrugs off reports that a paid escort spent the night at his Rome residence. The finding also suggests that an outbreak of AIDS is contributing to the declining chimpanzee population in Africa. Vice President Joseph R. Biden Jr. encouraged free markets and closer ties to the West even as Russia has sought to increase its influence. The plan, which would shift some operations to Palanquero, Apiay Air Base and Alberto Pouwels Air Base, is accentuating Colombias already tense relations with Venezuela, Ecuador and Nicaragua. Scuffles erupted Wednesday between rival lawmakers in Seoul over disputed media legislation.  Beijing responded to accusations that the government line on minorities contributed to recent violence in Xinjiang and the riots in Tibet last year. The delay came after the de facto government rejected a proposal by its own negotiating team that would have allowed the ousted president to return to power. Two years after the massacre at Virginia Tech, the gunmans missing records turned up at the home of the former director of the campus counseling center. Pfc. Bowe R. Bergdahl, captured by the Taliban in Afghanistan in June, was raised in a small Idaho town whose residents are now being protective of him and his family. The closing of two nuclear reactors is creating a shortage in a drug crucial to tests for cardiac disease and cancer. The warning of possible neurological side effects to swine flu should not cause alarm, doctors say, although some questions remain. Barack Obama congratulates the White Sox pitcher. After visiting the Cleveland Clinic, President Obama took questions from a crowd at a town hall meeting in Shaker Heights, Ohio, where he delivered a speech on the proposed health care overhaul. Representatives try again on a bill that they hope would reduce the procedures. The minority leader takes issue with President Obamas claim that both parties are on board with health-care overhaul. While Rahm Emanuel may still command a presence on Capitol Hill, he wasnt the visitor on Thursday whose entry stopped all action. Senator Harry Reid, the majority leader, acknowledged publicly the political reality that has been clear for days. Dr. Abdullah Abdullah is the one candidate who has a chance of forcing President Hamid Karzai into a runoff. Seven months after Israels military campaign against its rockets, Hamas has shifted its focus to cultural initiatives to gain support at home and abroad. New American-led antidrug efforts will focus on strengthening enforcement against drug lords and encouraging local farmers to stop planting poppy crops. Saad bin Laden is believed to be the first of Osama bin Ladens sons to die as a result of U.S. operations since 9/11. Vice President Joseph R. Biden Jr. urged Russia to pull troops back from two Georgian breakaway territories one year after the five-day war between the two nations. The boycott by political representatives of the ethnic Turkmen population in the province of Kirkuk throws into question whether a count of people will resolve growing tensions there. Zahra Rahnavard, the wife of Mir Hussein Moussavi, said the authorities had arrested her brother in an effort to intimidate her and her husband. A Pew survey found a dramatic improvement in opinions of the U.S. since the election. The leading opposition candidate for president, Almazbek Atambaev, asserted that widespread fraud had assured the incumbents victory. A summit in Asia broke out into an acrimonious exchange between Secretary of State Hillary Rodham Clinton and North Korea. After once spending his Sundays in football stadiums, a retired NFL player is now suiting up for the pulpit. The arrest is fueling an often emotional dialogue on Web sites and blogs. Officials in Florida shifted spending of federal foster care aid to focus on keeping families intact and to finance prevention and mental health treatment. Dissension among Democrats over health-care policy flared anew on Friday as Henry A. Waxman threatened to bypass his own committee to speed passage of the bill. People exposed to Agent Orange appear to be more likely to develop Parkinsons disease and ischemic heart disease, a panel of experts reports. At the daily White House briefing, President Obama said that he could have calibrated his words more carefully in the controversy over the arrest of Harvard Professor Henry Louis Gates Jr. (Video: MSNBC) President Obamas improvised handling of a racial debate underscored the challenges facing a leader who has tried to emphasize similarities over differences. After days of debate, state lawmakers agreed to close the huge budget gap and shore up state finances, for now. President Obama, in a brief appearance before the press, expresses regret over how he addressed the incident involving Henry Louis Gates Jr. and the Cambridge police department. An Army sergeant who died in Afghanistan will be honored by President Obama. Researchers are worried about a possible wave of cultural extinction among tribes that have long relied on nature. President Hamid Karzai of Afghanistan addressed complaints about civilian casualties, raids on private homes and detention without charges. After a visit to Georgia by Vice President Joseph R. Biden Jr., a top Russian diplomat announced sanctions against foreign companies that sell weapons to Tblisi. President Mahmoud Ahmadinejads controversial new deputy withdrew on Friday in response to a letter from Ayatollah Ali Khamenei, state television and news agencies reported. Amid competing urges for stability and change, voting began Saturday for lawmakers and a regional president. The secretary of state made headlines with unexpected statements about Iran, North Korea and Myanmar. Thirty years after China began enforcing a one-child policy, city officials will offer emotional counseling and financial incentives to couples willing to have a second. An Iranian passenger plane skidded off the runway and caught fire while landing in the northern city of Mashhad on Friday. Opposition Conservatives prevail handily in an area formerly considered safe for Labour. Daniyal Mueenuddins short stories about life in southern Punjab raise some of the biggest questions in Pakistan today. '"
      ]
     },
     "execution_count": 48,
     "metadata": {},
     "output_type": "execute_result"
    }
   ],
   "source": [
    "weekly_text_data.loc[0, \"Text\"]"
   ]
  },
  {
   "cell_type": "markdown",
   "metadata": {},
   "source": [
    "Read in the financial news from Yahoo Finance, remove unnecessary columns, and calculate rise or fall"
   ]
  },
  {
   "cell_type": "code",
   "execution_count": 49,
   "metadata": {},
   "outputs": [],
   "source": [
    "financial_data = pd.read_csv('SP500from2009to2019.csv')"
   ]
  },
  {
   "cell_type": "code",
   "execution_count": 50,
   "metadata": {},
   "outputs": [
    {
     "data": {
      "text/plain": [
       "2518"
      ]
     },
     "execution_count": 50,
     "metadata": {},
     "output_type": "execute_result"
    }
   ],
   "source": [
    "len(financial_data)"
   ]
  },
  {
   "cell_type": "code",
   "execution_count": 51,
   "metadata": {},
   "outputs": [
    {
     "data": {
      "text/html": [
       "<div>\n",
       "<style scoped>\n",
       "    .dataframe tbody tr th:only-of-type {\n",
       "        vertical-align: middle;\n",
       "    }\n",
       "\n",
       "    .dataframe tbody tr th {\n",
       "        vertical-align: top;\n",
       "    }\n",
       "\n",
       "    .dataframe thead th {\n",
       "        text-align: right;\n",
       "    }\n",
       "</style>\n",
       "<table border=\"1\" class=\"dataframe\">\n",
       "  <thead>\n",
       "    <tr style=\"text-align: right;\">\n",
       "      <th></th>\n",
       "      <th>Date</th>\n",
       "      <th>Open</th>\n",
       "      <th>High</th>\n",
       "      <th>Low</th>\n",
       "      <th>Close</th>\n",
       "      <th>Adj Close</th>\n",
       "      <th>Volume</th>\n",
       "    </tr>\n",
       "  </thead>\n",
       "  <tbody>\n",
       "    <tr>\n",
       "      <th>0</th>\n",
       "      <td>7/20/09</td>\n",
       "      <td>942.070007</td>\n",
       "      <td>951.619995</td>\n",
       "      <td>940.989990</td>\n",
       "      <td>951.130005</td>\n",
       "      <td>951.130005</td>\n",
       "      <td>4853150000</td>\n",
       "    </tr>\n",
       "    <tr>\n",
       "      <th>1</th>\n",
       "      <td>7/21/09</td>\n",
       "      <td>951.969971</td>\n",
       "      <td>956.530029</td>\n",
       "      <td>943.219971</td>\n",
       "      <td>954.580017</td>\n",
       "      <td>954.580017</td>\n",
       "      <td>5309300000</td>\n",
       "    </tr>\n",
       "    <tr>\n",
       "      <th>2</th>\n",
       "      <td>7/22/09</td>\n",
       "      <td>953.400024</td>\n",
       "      <td>959.830017</td>\n",
       "      <td>947.750000</td>\n",
       "      <td>954.070007</td>\n",
       "      <td>954.070007</td>\n",
       "      <td>4634100000</td>\n",
       "    </tr>\n",
       "    <tr>\n",
       "      <th>3</th>\n",
       "      <td>7/23/09</td>\n",
       "      <td>954.070007</td>\n",
       "      <td>979.419983</td>\n",
       "      <td>953.270020</td>\n",
       "      <td>976.289978</td>\n",
       "      <td>976.289978</td>\n",
       "      <td>5761650000</td>\n",
       "    </tr>\n",
       "    <tr>\n",
       "      <th>4</th>\n",
       "      <td>7/24/09</td>\n",
       "      <td>972.159973</td>\n",
       "      <td>979.789978</td>\n",
       "      <td>965.950012</td>\n",
       "      <td>979.260010</td>\n",
       "      <td>979.260010</td>\n",
       "      <td>4458300000</td>\n",
       "    </tr>\n",
       "  </tbody>\n",
       "</table>\n",
       "</div>"
      ],
      "text/plain": [
       "      Date        Open        High         Low       Close   Adj Close  \\\n",
       "0  7/20/09  942.070007  951.619995  940.989990  951.130005  951.130005   \n",
       "1  7/21/09  951.969971  956.530029  943.219971  954.580017  954.580017   \n",
       "2  7/22/09  953.400024  959.830017  947.750000  954.070007  954.070007   \n",
       "3  7/23/09  954.070007  979.419983  953.270020  976.289978  976.289978   \n",
       "4  7/24/09  972.159973  979.789978  965.950012  979.260010  979.260010   \n",
       "\n",
       "       Volume  \n",
       "0  4853150000  \n",
       "1  5309300000  \n",
       "2  4634100000  \n",
       "3  5761650000  \n",
       "4  4458300000  "
      ]
     },
     "execution_count": 51,
     "metadata": {},
     "output_type": "execute_result"
    }
   ],
   "source": [
    "financial_data.head()"
   ]
  },
  {
   "cell_type": "code",
   "execution_count": 52,
   "metadata": {},
   "outputs": [],
   "source": [
    "financial_data['Date'] = financial_data['Date'].map(lambda date: parser.parse(str(date)))"
   ]
  },
  {
   "cell_type": "code",
   "execution_count": 53,
   "metadata": {},
   "outputs": [
    {
     "data": {
      "text/html": [
       "<div>\n",
       "<style scoped>\n",
       "    .dataframe tbody tr th:only-of-type {\n",
       "        vertical-align: middle;\n",
       "    }\n",
       "\n",
       "    .dataframe tbody tr th {\n",
       "        vertical-align: top;\n",
       "    }\n",
       "\n",
       "    .dataframe thead th {\n",
       "        text-align: right;\n",
       "    }\n",
       "</style>\n",
       "<table border=\"1\" class=\"dataframe\">\n",
       "  <thead>\n",
       "    <tr style=\"text-align: right;\">\n",
       "      <th></th>\n",
       "      <th>Date</th>\n",
       "      <th>Open</th>\n",
       "      <th>High</th>\n",
       "      <th>Low</th>\n",
       "      <th>Close</th>\n",
       "      <th>Adj Close</th>\n",
       "      <th>Volume</th>\n",
       "    </tr>\n",
       "  </thead>\n",
       "  <tbody>\n",
       "    <tr>\n",
       "      <th>0</th>\n",
       "      <td>2009-07-20</td>\n",
       "      <td>942.070007</td>\n",
       "      <td>951.619995</td>\n",
       "      <td>940.989990</td>\n",
       "      <td>951.130005</td>\n",
       "      <td>951.130005</td>\n",
       "      <td>4853150000</td>\n",
       "    </tr>\n",
       "    <tr>\n",
       "      <th>1</th>\n",
       "      <td>2009-07-21</td>\n",
       "      <td>951.969971</td>\n",
       "      <td>956.530029</td>\n",
       "      <td>943.219971</td>\n",
       "      <td>954.580017</td>\n",
       "      <td>954.580017</td>\n",
       "      <td>5309300000</td>\n",
       "    </tr>\n",
       "    <tr>\n",
       "      <th>2</th>\n",
       "      <td>2009-07-22</td>\n",
       "      <td>953.400024</td>\n",
       "      <td>959.830017</td>\n",
       "      <td>947.750000</td>\n",
       "      <td>954.070007</td>\n",
       "      <td>954.070007</td>\n",
       "      <td>4634100000</td>\n",
       "    </tr>\n",
       "    <tr>\n",
       "      <th>3</th>\n",
       "      <td>2009-07-23</td>\n",
       "      <td>954.070007</td>\n",
       "      <td>979.419983</td>\n",
       "      <td>953.270020</td>\n",
       "      <td>976.289978</td>\n",
       "      <td>976.289978</td>\n",
       "      <td>5761650000</td>\n",
       "    </tr>\n",
       "    <tr>\n",
       "      <th>4</th>\n",
       "      <td>2009-07-24</td>\n",
       "      <td>972.159973</td>\n",
       "      <td>979.789978</td>\n",
       "      <td>965.950012</td>\n",
       "      <td>979.260010</td>\n",
       "      <td>979.260010</td>\n",
       "      <td>4458300000</td>\n",
       "    </tr>\n",
       "  </tbody>\n",
       "</table>\n",
       "</div>"
      ],
      "text/plain": [
       "        Date        Open        High         Low       Close   Adj Close  \\\n",
       "0 2009-07-20  942.070007  951.619995  940.989990  951.130005  951.130005   \n",
       "1 2009-07-21  951.969971  956.530029  943.219971  954.580017  954.580017   \n",
       "2 2009-07-22  953.400024  959.830017  947.750000  954.070007  954.070007   \n",
       "3 2009-07-23  954.070007  979.419983  953.270020  976.289978  976.289978   \n",
       "4 2009-07-24  972.159973  979.789978  965.950012  979.260010  979.260010   \n",
       "\n",
       "       Volume  \n",
       "0  4853150000  \n",
       "1  5309300000  \n",
       "2  4634100000  \n",
       "3  5761650000  \n",
       "4  4458300000  "
      ]
     },
     "execution_count": 53,
     "metadata": {},
     "output_type": "execute_result"
    }
   ],
   "source": [
    "financial_data.head()"
   ]
  },
  {
   "cell_type": "markdown",
   "metadata": {},
   "source": [
    "Remove unneeded columns"
   ]
  },
  {
   "cell_type": "code",
   "execution_count": 54,
   "metadata": {},
   "outputs": [],
   "source": [
    "cropped_data = financial_data.drop([\"High\", \"Low\", \"Close\", \"Volume\"], axis=1)"
   ]
  },
  {
   "cell_type": "markdown",
   "metadata": {},
   "source": [
    "Create a new table for the weekly change of the S&P 500 and find the weekly change of price"
   ]
  },
  {
   "cell_type": "code",
   "execution_count": 55,
   "metadata": {},
   "outputs": [],
   "source": [
    "weekly_change = pd.DataFrame()"
   ]
  },
  {
   "cell_type": "code",
   "execution_count": 56,
   "metadata": {},
   "outputs": [],
   "source": [
    "for i in range(0, 2514, 5):\n",
    "    weekly_change.loc[(i + 5) / 5, \"Change\"] = cropped_data.loc[i + 5, 'Adj Close'] - cropped_data.loc[i, 'Open']\n",
    "    weekly_change.loc[(i + 5) / 5, \"Date\"] = cropped_data.loc[i, 'Date']"
   ]
  },
  {
   "cell_type": "code",
   "execution_count": 57,
   "metadata": {},
   "outputs": [
    {
     "data": {
      "text/html": [
       "<div>\n",
       "<style scoped>\n",
       "    .dataframe tbody tr th:only-of-type {\n",
       "        vertical-align: middle;\n",
       "    }\n",
       "\n",
       "    .dataframe tbody tr th {\n",
       "        vertical-align: top;\n",
       "    }\n",
       "\n",
       "    .dataframe thead th {\n",
       "        text-align: right;\n",
       "    }\n",
       "</style>\n",
       "<table border=\"1\" class=\"dataframe\">\n",
       "  <thead>\n",
       "    <tr style=\"text-align: right;\">\n",
       "      <th></th>\n",
       "      <th>Change</th>\n",
       "      <th>Date</th>\n",
       "    </tr>\n",
       "  </thead>\n",
       "  <tbody>\n",
       "    <tr>\n",
       "      <th>499</th>\n",
       "      <td>14.479980</td>\n",
       "      <td>2019-06-11</td>\n",
       "    </tr>\n",
       "    <tr>\n",
       "      <th>500</th>\n",
       "      <td>10.669922</td>\n",
       "      <td>2019-06-18</td>\n",
       "    </tr>\n",
       "    <tr>\n",
       "      <th>501</th>\n",
       "      <td>27.229981</td>\n",
       "      <td>2019-06-25</td>\n",
       "    </tr>\n",
       "    <tr>\n",
       "      <th>502</th>\n",
       "      <td>28.410156</td>\n",
       "      <td>2019-07-02</td>\n",
       "    </tr>\n",
       "    <tr>\n",
       "      <th>503</th>\n",
       "      <td>-4.880127</td>\n",
       "      <td>2019-07-10</td>\n",
       "    </tr>\n",
       "  </tbody>\n",
       "</table>\n",
       "</div>"
      ],
      "text/plain": [
       "        Change       Date\n",
       "499  14.479980 2019-06-11\n",
       "500  10.669922 2019-06-18\n",
       "501  27.229981 2019-06-25\n",
       "502  28.410156 2019-07-02\n",
       "503  -4.880127 2019-07-10"
      ]
     },
     "execution_count": 57,
     "metadata": {},
     "output_type": "execute_result"
    }
   ],
   "source": [
    "weekly_change.tail()"
   ]
  },
  {
   "cell_type": "markdown",
   "metadata": {},
   "source": [
    "Convert to a binary increase or decrease change"
   ]
  },
  {
   "cell_type": "code",
   "execution_count": 58,
   "metadata": {},
   "outputs": [],
   "source": [
    "weekly_change['Change'] = (weekly_change['Change'] > 0)"
   ]
  },
  {
   "cell_type": "code",
   "execution_count": 59,
   "metadata": {},
   "outputs": [],
   "source": [
    "weekly_change['Change'] = weekly_change['Change'] * 1"
   ]
  },
  {
   "cell_type": "code",
   "execution_count": 60,
   "metadata": {},
   "outputs": [
    {
     "data": {
      "text/html": [
       "<div>\n",
       "<style scoped>\n",
       "    .dataframe tbody tr th:only-of-type {\n",
       "        vertical-align: middle;\n",
       "    }\n",
       "\n",
       "    .dataframe tbody tr th {\n",
       "        vertical-align: top;\n",
       "    }\n",
       "\n",
       "    .dataframe thead th {\n",
       "        text-align: right;\n",
       "    }\n",
       "</style>\n",
       "<table border=\"1\" class=\"dataframe\">\n",
       "  <thead>\n",
       "    <tr style=\"text-align: right;\">\n",
       "      <th></th>\n",
       "      <th>Change</th>\n",
       "      <th>Date</th>\n",
       "    </tr>\n",
       "  </thead>\n",
       "  <tbody>\n",
       "    <tr>\n",
       "      <th>1</th>\n",
       "      <td>1</td>\n",
       "      <td>2009-07-20</td>\n",
       "    </tr>\n",
       "    <tr>\n",
       "      <th>2</th>\n",
       "      <td>1</td>\n",
       "      <td>2009-07-27</td>\n",
       "    </tr>\n",
       "    <tr>\n",
       "      <th>3</th>\n",
       "      <td>1</td>\n",
       "      <td>2009-08-03</td>\n",
       "    </tr>\n",
       "    <tr>\n",
       "      <th>4</th>\n",
       "      <td>0</td>\n",
       "      <td>2009-08-10</td>\n",
       "    </tr>\n",
       "    <tr>\n",
       "      <th>5</th>\n",
       "      <td>1</td>\n",
       "      <td>2009-08-17</td>\n",
       "    </tr>\n",
       "  </tbody>\n",
       "</table>\n",
       "</div>"
      ],
      "text/plain": [
       "   Change       Date\n",
       "1       1 2009-07-20\n",
       "2       1 2009-07-27\n",
       "3       1 2009-08-03\n",
       "4       0 2009-08-10\n",
       "5       1 2009-08-17"
      ]
     },
     "execution_count": 60,
     "metadata": {},
     "output_type": "execute_result"
    }
   ],
   "source": [
    "weekly_change.head()"
   ]
  },
  {
   "cell_type": "markdown",
   "metadata": {},
   "source": [
    "Define \"clean_text\" for processing the weekly text."
   ]
  },
  {
   "cell_type": "code",
   "execution_count": 61,
   "metadata": {},
   "outputs": [],
   "source": [
    "lemmatizer = WordNetLemmatizer()\n",
    "\n",
    "def clean_text(text):\n",
    "    final_text = []\n",
    "    stop_words=set(stopwords.words(\"english\"))\n",
    "    filtered_words = []\n",
    "    sentences = nltk.sent_tokenize(text)\n",
    "    for sentence in sentences:\n",
    "        words = nltk.word_tokenize(sentence)\n",
    "        #words = tokenizer.tokenize(encode_sentence)\n",
    "        no_punc_words = [w for w in words if w not in string.punctuation]\n",
    "        filtered_words = [w.lower() for w in no_punc_words if w not in stop_words]\n",
    "        final_text += [lemmatizer.lemmatize(word) for word in filtered_words]\n",
    "    return final_text"
   ]
  },
  {
   "cell_type": "markdown",
   "metadata": {},
   "source": [
    "Create a table with the counts of each word for each week"
   ]
  },
  {
   "cell_type": "code",
   "execution_count": 62,
   "metadata": {},
   "outputs": [],
   "source": [
    "week_filling_df = pd.DataFrame()"
   ]
  },
  {
   "cell_type": "code",
   "execution_count": 29,
   "metadata": {},
   "outputs": [
    {
     "name": "stderr",
     "output_type": "stream",
     "text": [
      "/anaconda2/lib/python2.7/site-packages/pandas/core/frame.py:6201: FutureWarning: Sorting because non-concatenation axis is not aligned. A future version\n",
      "of pandas will change to not sort by default.\n",
      "\n",
      "To accept the future behavior, pass 'sort=True'.\n",
      "\n",
      "To retain the current behavior and silence the warning, pass sort=False\n",
      "\n",
      "  sort=sort)\n"
     ]
    }
   ],
   "source": [
    "for i in range(len(weekly_text_data)):\n",
    "    one_weeks_collection = weekly_text_data.loc[i, \"Text\"]\n",
    "    one_weeks_collection = [one_weeks_collection]\n",
    "    count_vect = CountVectorizer(analyzer=clean_text)\n",
    "    X_counts = count_vect.fit_transform(one_weeks_collection)\n",
    "    \n",
    "    X_counts_df = pd.DataFrame(X_counts.toarray())\n",
    "    X_counts_df.columns = count_vect.get_feature_names()\n",
    "    X_counts_df.index = [weekly_text_data.loc[i, \"Date\"]]\n",
    "    X_counts_df.index.name = \"Date\"\n",
    "    \n",
    "    week_filling_df = week_filling_df.append(X_counts_df)"
   ]
  },
  {
   "cell_type": "markdown",
   "metadata": {},
   "source": [
    "Fill in NA with zero"
   ]
  },
  {
   "cell_type": "code",
   "execution_count": 30,
   "metadata": {},
   "outputs": [
    {
     "data": {
      "text/html": [
       "<div>\n",
       "<style scoped>\n",
       "    .dataframe tbody tr th:only-of-type {\n",
       "        vertical-align: middle;\n",
       "    }\n",
       "\n",
       "    .dataframe tbody tr th {\n",
       "        vertical-align: top;\n",
       "    }\n",
       "\n",
       "    .dataframe thead th {\n",
       "        text-align: right;\n",
       "    }\n",
       "</style>\n",
       "<table border=\"1\" class=\"dataframe\">\n",
       "  <thead>\n",
       "    <tr style=\"text-align: right;\">\n",
       "      <th></th>\n",
       "      <th>''</th>\n",
       "      <th>'91</th>\n",
       "      <th>'affluenza</th>\n",
       "      <th>'d</th>\n",
       "      <th>'n</th>\n",
       "      <th>'re</th>\n",
       "      <th>'s</th>\n",
       "      <th>'stand</th>\n",
       "      <th>*an</th>\n",
       "      <th>--</th>\n",
       "      <th>...</th>\n",
       "      <th>zulu</th>\n",
       "      <th>zuma</th>\n",
       "      <th>zumas</th>\n",
       "      <th>zuni</th>\n",
       "      <th>zuoren</th>\n",
       "      <th>zurich</th>\n",
       "      <th>zurita</th>\n",
       "      <th>zvonko</th>\n",
       "      <th>zvyagintsev</th>\n",
       "      <th>zygier</th>\n",
       "    </tr>\n",
       "    <tr>\n",
       "      <th>Date</th>\n",
       "      <th></th>\n",
       "      <th></th>\n",
       "      <th></th>\n",
       "      <th></th>\n",
       "      <th></th>\n",
       "      <th></th>\n",
       "      <th></th>\n",
       "      <th></th>\n",
       "      <th></th>\n",
       "      <th></th>\n",
       "      <th></th>\n",
       "      <th></th>\n",
       "      <th></th>\n",
       "      <th></th>\n",
       "      <th></th>\n",
       "      <th></th>\n",
       "      <th></th>\n",
       "      <th></th>\n",
       "      <th></th>\n",
       "      <th></th>\n",
       "      <th></th>\n",
       "    </tr>\n",
       "  </thead>\n",
       "  <tbody>\n",
       "    <tr>\n",
       "      <th>2009-07-20</th>\n",
       "      <td>0.0</td>\n",
       "      <td>0.0</td>\n",
       "      <td>0.0</td>\n",
       "      <td>0.0</td>\n",
       "      <td>0.0</td>\n",
       "      <td>0.0</td>\n",
       "      <td>0.0</td>\n",
       "      <td>0.0</td>\n",
       "      <td>0.0</td>\n",
       "      <td>0.0</td>\n",
       "      <td>...</td>\n",
       "      <td>0.0</td>\n",
       "      <td>0.0</td>\n",
       "      <td>0.0</td>\n",
       "      <td>0.0</td>\n",
       "      <td>0.0</td>\n",
       "      <td>0.0</td>\n",
       "      <td>0.0</td>\n",
       "      <td>0.0</td>\n",
       "      <td>0.0</td>\n",
       "      <td>0.0</td>\n",
       "    </tr>\n",
       "    <tr>\n",
       "      <th>2009-07-27</th>\n",
       "      <td>0.0</td>\n",
       "      <td>0.0</td>\n",
       "      <td>0.0</td>\n",
       "      <td>0.0</td>\n",
       "      <td>0.0</td>\n",
       "      <td>0.0</td>\n",
       "      <td>0.0</td>\n",
       "      <td>0.0</td>\n",
       "      <td>0.0</td>\n",
       "      <td>0.0</td>\n",
       "      <td>...</td>\n",
       "      <td>0.0</td>\n",
       "      <td>1.0</td>\n",
       "      <td>0.0</td>\n",
       "      <td>0.0</td>\n",
       "      <td>0.0</td>\n",
       "      <td>0.0</td>\n",
       "      <td>0.0</td>\n",
       "      <td>0.0</td>\n",
       "      <td>0.0</td>\n",
       "      <td>0.0</td>\n",
       "    </tr>\n",
       "    <tr>\n",
       "      <th>2009-08-03</th>\n",
       "      <td>0.0</td>\n",
       "      <td>0.0</td>\n",
       "      <td>0.0</td>\n",
       "      <td>0.0</td>\n",
       "      <td>0.0</td>\n",
       "      <td>0.0</td>\n",
       "      <td>2.0</td>\n",
       "      <td>0.0</td>\n",
       "      <td>0.0</td>\n",
       "      <td>0.0</td>\n",
       "      <td>...</td>\n",
       "      <td>0.0</td>\n",
       "      <td>0.0</td>\n",
       "      <td>0.0</td>\n",
       "      <td>0.0</td>\n",
       "      <td>0.0</td>\n",
       "      <td>0.0</td>\n",
       "      <td>0.0</td>\n",
       "      <td>0.0</td>\n",
       "      <td>0.0</td>\n",
       "      <td>0.0</td>\n",
       "    </tr>\n",
       "    <tr>\n",
       "      <th>2009-08-10</th>\n",
       "      <td>0.0</td>\n",
       "      <td>0.0</td>\n",
       "      <td>0.0</td>\n",
       "      <td>0.0</td>\n",
       "      <td>0.0</td>\n",
       "      <td>0.0</td>\n",
       "      <td>0.0</td>\n",
       "      <td>0.0</td>\n",
       "      <td>0.0</td>\n",
       "      <td>0.0</td>\n",
       "      <td>...</td>\n",
       "      <td>0.0</td>\n",
       "      <td>0.0</td>\n",
       "      <td>0.0</td>\n",
       "      <td>0.0</td>\n",
       "      <td>1.0</td>\n",
       "      <td>0.0</td>\n",
       "      <td>0.0</td>\n",
       "      <td>0.0</td>\n",
       "      <td>0.0</td>\n",
       "      <td>0.0</td>\n",
       "    </tr>\n",
       "    <tr>\n",
       "      <th>2009-08-17</th>\n",
       "      <td>0.0</td>\n",
       "      <td>0.0</td>\n",
       "      <td>0.0</td>\n",
       "      <td>0.0</td>\n",
       "      <td>0.0</td>\n",
       "      <td>0.0</td>\n",
       "      <td>2.0</td>\n",
       "      <td>0.0</td>\n",
       "      <td>0.0</td>\n",
       "      <td>0.0</td>\n",
       "      <td>...</td>\n",
       "      <td>0.0</td>\n",
       "      <td>0.0</td>\n",
       "      <td>0.0</td>\n",
       "      <td>0.0</td>\n",
       "      <td>0.0</td>\n",
       "      <td>0.0</td>\n",
       "      <td>0.0</td>\n",
       "      <td>0.0</td>\n",
       "      <td>0.0</td>\n",
       "      <td>0.0</td>\n",
       "    </tr>\n",
       "  </tbody>\n",
       "</table>\n",
       "<p>5 rows × 40012 columns</p>\n",
       "</div>"
      ],
      "text/plain": [
       "             ''  '91  'affluenza   'd   'n  're   's  'stand  *an   --  \\\n",
       "Date                                                                     \n",
       "2009-07-20  0.0  0.0         0.0  0.0  0.0  0.0  0.0     0.0  0.0  0.0   \n",
       "2009-07-27  0.0  0.0         0.0  0.0  0.0  0.0  0.0     0.0  0.0  0.0   \n",
       "2009-08-03  0.0  0.0         0.0  0.0  0.0  0.0  2.0     0.0  0.0  0.0   \n",
       "2009-08-10  0.0  0.0         0.0  0.0  0.0  0.0  0.0     0.0  0.0  0.0   \n",
       "2009-08-17  0.0  0.0         0.0  0.0  0.0  0.0  2.0     0.0  0.0  0.0   \n",
       "\n",
       "             ...    zulu  zuma  zumas  zuni  zuoren  zurich  zurita  zvonko  \\\n",
       "Date         ...                                                              \n",
       "2009-07-20   ...     0.0   0.0    0.0   0.0     0.0     0.0     0.0     0.0   \n",
       "2009-07-27   ...     0.0   1.0    0.0   0.0     0.0     0.0     0.0     0.0   \n",
       "2009-08-03   ...     0.0   0.0    0.0   0.0     0.0     0.0     0.0     0.0   \n",
       "2009-08-10   ...     0.0   0.0    0.0   0.0     1.0     0.0     0.0     0.0   \n",
       "2009-08-17   ...     0.0   0.0    0.0   0.0     0.0     0.0     0.0     0.0   \n",
       "\n",
       "            zvyagintsev  zygier  \n",
       "Date                             \n",
       "2009-07-20          0.0     0.0  \n",
       "2009-07-27          0.0     0.0  \n",
       "2009-08-03          0.0     0.0  \n",
       "2009-08-10          0.0     0.0  \n",
       "2009-08-17          0.0     0.0  \n",
       "\n",
       "[5 rows x 40012 columns]"
      ]
     },
     "execution_count": 30,
     "metadata": {},
     "output_type": "execute_result"
    }
   ],
   "source": [
    "week_filling_df = week_filling_df.fillna(0)\n",
    "week_filling_df.head()"
   ]
  },
  {
   "cell_type": "markdown",
   "metadata": {},
   "source": [
    "Reset index and drop date for training of model"
   ]
  },
  {
   "cell_type": "code",
   "execution_count": 31,
   "metadata": {},
   "outputs": [],
   "source": [
    "reset_week_filling_df = week_filling_df.reset_index()\n",
    "no_date_week_filling_df = reset_week_filling_df.drop([\"Date\"], axis=1)"
   ]
  },
  {
   "cell_type": "code",
   "execution_count": 32,
   "metadata": {},
   "outputs": [
    {
     "data": {
      "text/html": [
       "<div>\n",
       "<style scoped>\n",
       "    .dataframe tbody tr th:only-of-type {\n",
       "        vertical-align: middle;\n",
       "    }\n",
       "\n",
       "    .dataframe tbody tr th {\n",
       "        vertical-align: top;\n",
       "    }\n",
       "\n",
       "    .dataframe thead th {\n",
       "        text-align: right;\n",
       "    }\n",
       "</style>\n",
       "<table border=\"1\" class=\"dataframe\">\n",
       "  <thead>\n",
       "    <tr style=\"text-align: right;\">\n",
       "      <th></th>\n",
       "      <th>''</th>\n",
       "      <th>'91</th>\n",
       "      <th>'affluenza</th>\n",
       "      <th>'d</th>\n",
       "      <th>'n</th>\n",
       "      <th>'re</th>\n",
       "      <th>'s</th>\n",
       "      <th>'stand</th>\n",
       "      <th>*an</th>\n",
       "      <th>--</th>\n",
       "      <th>...</th>\n",
       "      <th>zulu</th>\n",
       "      <th>zuma</th>\n",
       "      <th>zumas</th>\n",
       "      <th>zuni</th>\n",
       "      <th>zuoren</th>\n",
       "      <th>zurich</th>\n",
       "      <th>zurita</th>\n",
       "      <th>zvonko</th>\n",
       "      <th>zvyagintsev</th>\n",
       "      <th>zygier</th>\n",
       "    </tr>\n",
       "  </thead>\n",
       "  <tbody>\n",
       "    <tr>\n",
       "      <th>0</th>\n",
       "      <td>0.0</td>\n",
       "      <td>0.0</td>\n",
       "      <td>0.0</td>\n",
       "      <td>0.0</td>\n",
       "      <td>0.0</td>\n",
       "      <td>0.0</td>\n",
       "      <td>0.0</td>\n",
       "      <td>0.0</td>\n",
       "      <td>0.0</td>\n",
       "      <td>0.0</td>\n",
       "      <td>...</td>\n",
       "      <td>0.0</td>\n",
       "      <td>0.0</td>\n",
       "      <td>0.0</td>\n",
       "      <td>0.0</td>\n",
       "      <td>0.0</td>\n",
       "      <td>0.0</td>\n",
       "      <td>0.0</td>\n",
       "      <td>0.0</td>\n",
       "      <td>0.0</td>\n",
       "      <td>0.0</td>\n",
       "    </tr>\n",
       "    <tr>\n",
       "      <th>1</th>\n",
       "      <td>0.0</td>\n",
       "      <td>0.0</td>\n",
       "      <td>0.0</td>\n",
       "      <td>0.0</td>\n",
       "      <td>0.0</td>\n",
       "      <td>0.0</td>\n",
       "      <td>0.0</td>\n",
       "      <td>0.0</td>\n",
       "      <td>0.0</td>\n",
       "      <td>0.0</td>\n",
       "      <td>...</td>\n",
       "      <td>0.0</td>\n",
       "      <td>1.0</td>\n",
       "      <td>0.0</td>\n",
       "      <td>0.0</td>\n",
       "      <td>0.0</td>\n",
       "      <td>0.0</td>\n",
       "      <td>0.0</td>\n",
       "      <td>0.0</td>\n",
       "      <td>0.0</td>\n",
       "      <td>0.0</td>\n",
       "    </tr>\n",
       "    <tr>\n",
       "      <th>2</th>\n",
       "      <td>0.0</td>\n",
       "      <td>0.0</td>\n",
       "      <td>0.0</td>\n",
       "      <td>0.0</td>\n",
       "      <td>0.0</td>\n",
       "      <td>0.0</td>\n",
       "      <td>2.0</td>\n",
       "      <td>0.0</td>\n",
       "      <td>0.0</td>\n",
       "      <td>0.0</td>\n",
       "      <td>...</td>\n",
       "      <td>0.0</td>\n",
       "      <td>0.0</td>\n",
       "      <td>0.0</td>\n",
       "      <td>0.0</td>\n",
       "      <td>0.0</td>\n",
       "      <td>0.0</td>\n",
       "      <td>0.0</td>\n",
       "      <td>0.0</td>\n",
       "      <td>0.0</td>\n",
       "      <td>0.0</td>\n",
       "    </tr>\n",
       "    <tr>\n",
       "      <th>3</th>\n",
       "      <td>0.0</td>\n",
       "      <td>0.0</td>\n",
       "      <td>0.0</td>\n",
       "      <td>0.0</td>\n",
       "      <td>0.0</td>\n",
       "      <td>0.0</td>\n",
       "      <td>0.0</td>\n",
       "      <td>0.0</td>\n",
       "      <td>0.0</td>\n",
       "      <td>0.0</td>\n",
       "      <td>...</td>\n",
       "      <td>0.0</td>\n",
       "      <td>0.0</td>\n",
       "      <td>0.0</td>\n",
       "      <td>0.0</td>\n",
       "      <td>1.0</td>\n",
       "      <td>0.0</td>\n",
       "      <td>0.0</td>\n",
       "      <td>0.0</td>\n",
       "      <td>0.0</td>\n",
       "      <td>0.0</td>\n",
       "    </tr>\n",
       "    <tr>\n",
       "      <th>4</th>\n",
       "      <td>0.0</td>\n",
       "      <td>0.0</td>\n",
       "      <td>0.0</td>\n",
       "      <td>0.0</td>\n",
       "      <td>0.0</td>\n",
       "      <td>0.0</td>\n",
       "      <td>2.0</td>\n",
       "      <td>0.0</td>\n",
       "      <td>0.0</td>\n",
       "      <td>0.0</td>\n",
       "      <td>...</td>\n",
       "      <td>0.0</td>\n",
       "      <td>0.0</td>\n",
       "      <td>0.0</td>\n",
       "      <td>0.0</td>\n",
       "      <td>0.0</td>\n",
       "      <td>0.0</td>\n",
       "      <td>0.0</td>\n",
       "      <td>0.0</td>\n",
       "      <td>0.0</td>\n",
       "      <td>0.0</td>\n",
       "    </tr>\n",
       "  </tbody>\n",
       "</table>\n",
       "<p>5 rows × 40012 columns</p>\n",
       "</div>"
      ],
      "text/plain": [
       "    ''  '91  'affluenza   'd   'n  're   's  'stand  *an   --   ...    zulu  \\\n",
       "0  0.0  0.0         0.0  0.0  0.0  0.0  0.0     0.0  0.0  0.0   ...     0.0   \n",
       "1  0.0  0.0         0.0  0.0  0.0  0.0  0.0     0.0  0.0  0.0   ...     0.0   \n",
       "2  0.0  0.0         0.0  0.0  0.0  0.0  2.0     0.0  0.0  0.0   ...     0.0   \n",
       "3  0.0  0.0         0.0  0.0  0.0  0.0  0.0     0.0  0.0  0.0   ...     0.0   \n",
       "4  0.0  0.0         0.0  0.0  0.0  0.0  2.0     0.0  0.0  0.0   ...     0.0   \n",
       "\n",
       "   zuma  zumas  zuni  zuoren  zurich  zurita  zvonko  zvyagintsev  zygier  \n",
       "0   0.0    0.0   0.0     0.0     0.0     0.0     0.0          0.0     0.0  \n",
       "1   1.0    0.0   0.0     0.0     0.0     0.0     0.0          0.0     0.0  \n",
       "2   0.0    0.0   0.0     0.0     0.0     0.0     0.0          0.0     0.0  \n",
       "3   0.0    0.0   0.0     1.0     0.0     0.0     0.0          0.0     0.0  \n",
       "4   0.0    0.0   0.0     0.0     0.0     0.0     0.0          0.0     0.0  \n",
       "\n",
       "[5 rows x 40012 columns]"
      ]
     },
     "execution_count": 32,
     "metadata": {},
     "output_type": "execute_result"
    }
   ],
   "source": [
    "no_date_week_filling_df.head()"
   ]
  },
  {
   "cell_type": "markdown",
   "metadata": {},
   "source": [
    "Drop date from weekly market change table for processing model"
   ]
  },
  {
   "cell_type": "code",
   "execution_count": 33,
   "metadata": {},
   "outputs": [],
   "source": [
    "no_date_weekly_change = weekly_change.drop([\"Date\"], axis=1)"
   ]
  },
  {
   "cell_type": "code",
   "execution_count": 34,
   "metadata": {
    "scrolled": false
   },
   "outputs": [
    {
     "data": {
      "text/html": [
       "<div>\n",
       "<style scoped>\n",
       "    .dataframe tbody tr th:only-of-type {\n",
       "        vertical-align: middle;\n",
       "    }\n",
       "\n",
       "    .dataframe tbody tr th {\n",
       "        vertical-align: top;\n",
       "    }\n",
       "\n",
       "    .dataframe thead th {\n",
       "        text-align: right;\n",
       "    }\n",
       "</style>\n",
       "<table border=\"1\" class=\"dataframe\">\n",
       "  <thead>\n",
       "    <tr style=\"text-align: right;\">\n",
       "      <th></th>\n",
       "      <th>Change</th>\n",
       "    </tr>\n",
       "  </thead>\n",
       "  <tbody>\n",
       "    <tr>\n",
       "      <th>1</th>\n",
       "      <td>1</td>\n",
       "    </tr>\n",
       "    <tr>\n",
       "      <th>2</th>\n",
       "      <td>1</td>\n",
       "    </tr>\n",
       "    <tr>\n",
       "      <th>3</th>\n",
       "      <td>1</td>\n",
       "    </tr>\n",
       "    <tr>\n",
       "      <th>4</th>\n",
       "      <td>0</td>\n",
       "    </tr>\n",
       "    <tr>\n",
       "      <th>5</th>\n",
       "      <td>1</td>\n",
       "    </tr>\n",
       "  </tbody>\n",
       "</table>\n",
       "</div>"
      ],
      "text/plain": [
       "   Change\n",
       "1       1\n",
       "2       1\n",
       "3       1\n",
       "4       0\n",
       "5       1"
      ]
     },
     "execution_count": 34,
     "metadata": {},
     "output_type": "execute_result"
    }
   ],
   "source": [
    "no_date_weekly_change.head()"
   ]
  },
  {
   "cell_type": "markdown",
   "metadata": {},
   "source": [
    "Convert to float as that seemed necessary for model"
   ]
  },
  {
   "cell_type": "code",
   "execution_count": 51,
   "metadata": {},
   "outputs": [
    {
     "data": {
      "text/plain": [
       "numpy.int64"
      ]
     },
     "execution_count": 51,
     "metadata": {},
     "output_type": "execute_result"
    }
   ],
   "source": [
    "type(no_date_weekly_change.loc[1, \"Change\"])"
   ]
  },
  {
   "cell_type": "code",
   "execution_count": 60,
   "metadata": {},
   "outputs": [],
   "source": [
    "float_no_date_weekly_change = no_date_weekly_change"
   ]
  },
  {
   "cell_type": "code",
   "execution_count": 61,
   "metadata": {},
   "outputs": [],
   "source": [
    "float_no_date_weekly_change[\"Change\"] = float_no_date_weekly_change[\"Change\"].map(lambda change: float(change))"
   ]
  },
  {
   "cell_type": "code",
   "execution_count": 63,
   "metadata": {
    "scrolled": true
   },
   "outputs": [
    {
     "data": {
      "text/plain": [
       "numpy.float64"
      ]
     },
     "execution_count": 63,
     "metadata": {},
     "output_type": "execute_result"
    }
   ],
   "source": [
    "type(float_no_date_weekly_change.loc[1, \"Change\"])"
   ]
  },
  {
   "cell_type": "code",
   "execution_count": 65,
   "metadata": {},
   "outputs": [
    {
     "data": {
      "text/html": [
       "<div>\n",
       "<style scoped>\n",
       "    .dataframe tbody tr th:only-of-type {\n",
       "        vertical-align: middle;\n",
       "    }\n",
       "\n",
       "    .dataframe tbody tr th {\n",
       "        vertical-align: top;\n",
       "    }\n",
       "\n",
       "    .dataframe thead th {\n",
       "        text-align: right;\n",
       "    }\n",
       "</style>\n",
       "<table border=\"1\" class=\"dataframe\">\n",
       "  <thead>\n",
       "    <tr style=\"text-align: right;\">\n",
       "      <th></th>\n",
       "      <th>Change</th>\n",
       "    </tr>\n",
       "  </thead>\n",
       "  <tbody>\n",
       "    <tr>\n",
       "      <th>1</th>\n",
       "      <td>1.0</td>\n",
       "    </tr>\n",
       "    <tr>\n",
       "      <th>2</th>\n",
       "      <td>1.0</td>\n",
       "    </tr>\n",
       "    <tr>\n",
       "      <th>3</th>\n",
       "      <td>1.0</td>\n",
       "    </tr>\n",
       "    <tr>\n",
       "      <th>4</th>\n",
       "      <td>0.0</td>\n",
       "    </tr>\n",
       "    <tr>\n",
       "      <th>5</th>\n",
       "      <td>1.0</td>\n",
       "    </tr>\n",
       "  </tbody>\n",
       "</table>\n",
       "</div>"
      ],
      "text/plain": [
       "   Change\n",
       "1     1.0\n",
       "2     1.0\n",
       "3     1.0\n",
       "4     0.0\n",
       "5     1.0"
      ]
     },
     "execution_count": 65,
     "metadata": {},
     "output_type": "execute_result"
    }
   ],
   "source": [
    "float_no_date_weekly_change.head(5)"
   ]
  },
  {
   "cell_type": "markdown",
   "metadata": {},
   "source": [
    "<h1>Three machine learning methods are tested here</h1>"
   ]
  },
  {
   "cell_type": "markdown",
   "metadata": {},
   "source": [
    "<h3>Naive Bayes</h3>"
   ]
  },
  {
   "cell_type": "code",
   "execution_count": 77,
   "metadata": {},
   "outputs": [
    {
     "data": {
      "text/plain": [
       "array([0.62376238, 0.61386139, 0.56435644, 0.65      , 0.59      ])"
      ]
     },
     "execution_count": 77,
     "metadata": {},
     "output_type": "execute_result"
    }
   ],
   "source": [
    "naive = naive_bayes.MultinomialNB()\n",
    "k_fold = KFold(n_splits=5)\n",
    "cross_val_score(naive, no_date_week_filling_df, no_date_weekly_change[\"Change\"], cv=k_fold, scoring=\"accuracy\", n_jobs=-1)"
   ]
  },
  {
   "cell_type": "code",
   "execution_count": 38,
   "metadata": {},
   "outputs": [
    {
     "data": {
      "text/plain": [
       "0.608396042"
      ]
     },
     "execution_count": 38,
     "metadata": {},
     "output_type": "execute_result"
    }
   ],
   "source": [
    "np.average([0.62376238, 0.61386139, 0.56435644, 0.65, 0.59])"
   ]
  },
  {
   "cell_type": "markdown",
   "metadata": {},
   "source": [
    "<h3>SVM</h3>"
   ]
  },
  {
   "cell_type": "code",
   "execution_count": 41,
   "metadata": {},
   "outputs": [
    {
     "data": {
      "text/plain": [
       "array([0.46534653, 0.62376238, 0.53465347, 0.4       , 0.52      ])"
      ]
     },
     "execution_count": 41,
     "metadata": {},
     "output_type": "execute_result"
    }
   ],
   "source": [
    "SVM = svm.SVC(C=1.0, kernel='linear', degree=3, gamma='auto')\n",
    "k_fold = KFold(n_splits=5)\n",
    "cross_val_score(SVM, no_date_week_filling_df, no_date_weekly_change[\"Change\"], cv=k_fold, scoring=\"accuracy\", n_jobs=-1)"
   ]
  },
  {
   "cell_type": "code",
   "execution_count": 43,
   "metadata": {},
   "outputs": [
    {
     "data": {
      "text/plain": [
       "0.508752476"
      ]
     },
     "execution_count": 43,
     "metadata": {},
     "output_type": "execute_result"
    }
   ],
   "source": [
    "np.average([0.46534653, 0.62376238, 0.53465347, 0.4, 0.52])"
   ]
  },
  {
   "cell_type": "markdown",
   "metadata": {},
   "source": [
    "<h3>Grid Search with SVM</h3>"
   ]
  },
  {
   "cell_type": "code",
   "execution_count": 66,
   "metadata": {
    "scrolled": true
   },
   "outputs": [
    {
     "data": {
      "text/plain": [
       "GridSearchCV(cv=5, error_score='raise',\n",
       "       estimator=SVC(C=1.0, cache_size=200, class_weight=None, coef0=0.0,\n",
       "  decision_function_shape='ovr', degree=3, gamma='auto', kernel='rbf',\n",
       "  max_iter=-1, probability=False, random_state=None, shrinking=True,\n",
       "  tol=0.001, verbose=False),\n",
       "       fit_params=None, iid=True, n_jobs=1,\n",
       "       param_grid={'kernel': ('linear', 'rbf'), 'C': [1.0, 10.0]},\n",
       "       pre_dispatch='2*n_jobs', refit=True, return_train_score='warn',\n",
       "       scoring=None, verbose=0)"
      ]
     },
     "execution_count": 66,
     "metadata": {},
     "output_type": "execute_result"
    }
   ],
   "source": [
    "parameters = {'kernel':('linear', 'rbf'), 'C':[1.0, 10.0]}\n",
    "svc = svm.SVC()\n",
    "clf = GridSearchCV(svc, parameters, cv=5)\n",
    "clf.fit(no_date_week_filling_df, float_no_date_weekly_change.loc[1:,\"Change\"])"
   ]
  },
  {
   "cell_type": "markdown",
   "metadata": {},
   "source": [
    "<h4>Insight</h4>\n",
    "One of the results with grid search with SVM yielded an accuracy very close to the actual average number of \"weeks\" of increase (see below)."
   ]
  },
  {
   "cell_type": "code",
   "execution_count": 74,
   "metadata": {
    "scrolled": true
   },
   "outputs": [
    {
     "name": "stderr",
     "output_type": "stream",
     "text": [
      "/anaconda2/lib/python2.7/site-packages/sklearn/model_selection/_search.py:761: DeprecationWarning: The grid_scores_ attribute was deprecated in version 0.18 in favor of the more elaborate cv_results_ attribute. The grid_scores_ attribute will not be available from 0.20\n",
      "  DeprecationWarning)\n"
     ]
    },
    {
     "data": {
      "text/plain": [
       "[mean: 0.51690, std: 0.05330, params: {'kernel': 'linear', 'C': 1.0},\n",
       " mean: 0.60835, std: 0.00235, params: {'kernel': 'rbf', 'C': 1.0},\n",
       " mean: 0.51690, std: 0.05330, params: {'kernel': 'linear', 'C': 10.0},\n",
       " mean: 0.59642, std: 0.01011, params: {'kernel': 'rbf', 'C': 10.0}]"
      ]
     },
     "execution_count": 74,
     "metadata": {},
     "output_type": "execute_result"
    }
   ],
   "source": [
    "grid_scores = clf.grid_scores_\n",
    "grid_scores"
   ]
  },
  {
   "cell_type": "markdown",
   "metadata": {},
   "source": [
    "<h3>Random Forest Classifier</h3>"
   ]
  },
  {
   "cell_type": "code",
   "execution_count": 89,
   "metadata": {},
   "outputs": [
    {
     "data": {
      "text/plain": [
       "array([0.65346535, 0.61386139, 0.56435644, 0.61      , 0.58      ])"
      ]
     },
     "execution_count": 89,
     "metadata": {},
     "output_type": "execute_result"
    }
   ],
   "source": [
    "rf = RandomForestClassifier(n_jobs=-1)\n",
    "k_fold = KFold(n_splits=5)\n",
    "cross_val_score(rf, no_date_week_filling_df, no_date_weekly_change[\"Change\"], cv=k_fold, scoring=\"accuracy\", n_jobs=-1)"
   ]
  },
  {
   "cell_type": "code",
   "execution_count": 92,
   "metadata": {},
   "outputs": [
    {
     "data": {
      "text/plain": [
       "0.604336636"
      ]
     },
     "execution_count": 92,
     "metadata": {},
     "output_type": "execute_result"
    }
   ],
   "source": [
    "np.average([0.65346535, 0.61386139, 0.56435644, 0.61, 0.58])"
   ]
  },
  {
   "cell_type": "markdown",
   "metadata": {},
   "source": [
    "<h3>Average Number of Market Increase for Comparison</h3>"
   ]
  },
  {
   "cell_type": "code",
   "execution_count": 90,
   "metadata": {},
   "outputs": [],
   "source": [
    "week_increase = 0\n",
    "for i in range(len(weekly_change)):\n",
    "    if weekly_change.loc[i + 1, \"Change\"]  == 1:\n",
    "        week_increase += 1"
   ]
  },
  {
   "cell_type": "code",
   "execution_count": 91,
   "metadata": {},
   "outputs": [
    {
     "data": {
      "text/plain": [
       "0.6083499005964215"
      ]
     },
     "execution_count": 91,
     "metadata": {},
     "output_type": "execute_result"
    }
   ],
   "source": [
    "week_increase / float(len(weekly_change))"
   ]
  },
  {
   "cell_type": "markdown",
   "metadata": {},
   "source": [
    "<h2>Summary with Weekly Change</h2>\n",
    "\n",
    "<table>\n",
    "    <tr>\n",
    "        <td> Actual Increase Percentage </td>\n",
    "        <td> Random Forest Classifier</td>\n",
    "        <td> SVM with Grid Search</td>\n",
    "        <td> Naive Bayes</td>\n",
    "    </tr>\n",
    "    <tr>\n",
    "        <td> 60.83% </td>\n",
    "        <td> 60.43% </td>\n",
    "        <td> 60.84% </td>\n",
    "        <td> 60.84% </td>\n",
    "    </tr>\n",
    "</table>"
   ]
  },
  {
   "cell_type": "markdown",
   "metadata": {},
   "source": [
    "<h1>Using Bigrams</h2>"
   ]
  },
  {
   "cell_type": "markdown",
   "metadata": {},
   "source": [
    "Vectorize the weekly news with an ngram range of (1, 2).  Note that printing integers of 10 was used as a count due to the long processing time."
   ]
  },
  {
   "cell_type": "code",
   "execution_count": 82,
   "metadata": {},
   "outputs": [],
   "source": [
    "bigram_week_filling_df = pd.DataFrame()"
   ]
  },
  {
   "cell_type": "code",
   "execution_count": 83,
   "metadata": {
    "scrolled": true
   },
   "outputs": [
    {
     "name": "stdout",
     "output_type": "stream",
     "text": [
      "0\n",
      "10\n",
      "20\n",
      "30\n",
      "40\n",
      "50\n",
      "60\n",
      "70\n",
      "80\n",
      "90\n",
      "100\n",
      "110\n",
      "120\n",
      "130\n",
      "140\n",
      "150\n",
      "160\n",
      "170\n",
      "180\n",
      "190\n",
      "200\n",
      "210\n",
      "220\n",
      "230\n",
      "240\n",
      "250\n",
      "260\n",
      "270\n",
      "280\n",
      "290\n",
      "300\n",
      "310\n",
      "320\n",
      "330\n",
      "340\n",
      "350\n",
      "360\n",
      "370\n",
      "380\n",
      "390\n",
      "400\n",
      "410\n",
      "420\n",
      "430\n",
      "440\n",
      "450\n",
      "460\n",
      "470\n",
      "480\n",
      "490\n",
      "500\n"
     ]
    }
   ],
   "source": [
    "for i in range(len(weekly_text_data)):\n",
    "    one_weeks_collection = weekly_text_data.loc[i, \"Text\"]\n",
    "    one_weeks_collection = [one_weeks_collection]\n",
    "    count_vect = CountVectorizer(ngram_range=(1, 2), analyzer='word', stop_words='english')\n",
    "    X_counts = count_vect.fit_transform(one_weeks_collection)\n",
    "    X_counts_df = pd.DataFrame(X_counts.toarray())\n",
    "    X_counts_df.columns = count_vect.get_feature_names()\n",
    "    X_counts_df.index = [weekly_text_data.loc[i, \"Date\"]]\n",
    "    X_counts_df.index.name = \"Date\"\n",
    "    if i % 10 == 0:\n",
    "        print i #keep track of progress\n",
    "    \n",
    "    bigram_week_filling_df = bigram_week_filling_df.append(X_counts_df)"
   ]
  },
  {
   "cell_type": "code",
   "execution_count": 84,
   "metadata": {},
   "outputs": [
    {
     "data": {
      "text/html": [
       "<div>\n",
       "<style scoped>\n",
       "    .dataframe tbody tr th:only-of-type {\n",
       "        vertical-align: middle;\n",
       "    }\n",
       "\n",
       "    .dataframe tbody tr th {\n",
       "        vertical-align: top;\n",
       "    }\n",
       "\n",
       "    .dataframe thead th {\n",
       "        text-align: right;\n",
       "    }\n",
       "</style>\n",
       "<table border=\"1\" class=\"dataframe\">\n",
       "  <thead>\n",
       "    <tr style=\"text-align: right;\">\n",
       "      <th></th>\n",
       "      <th>000</th>\n",
       "      <th>000 000</th>\n",
       "      <th>000 10</th>\n",
       "      <th>000 13</th>\n",
       "      <th>000 170</th>\n",
       "      <th>000 1948</th>\n",
       "      <th>000 1970</th>\n",
       "      <th>000 2004</th>\n",
       "      <th>000 2007</th>\n",
       "      <th>000 2010</th>\n",
       "      <th>...</th>\n",
       "      <th>zurich offices</th>\n",
       "      <th>zurich police</th>\n",
       "      <th>zurita</th>\n",
       "      <th>zurita working</th>\n",
       "      <th>zvonko</th>\n",
       "      <th>zvonko veselinovic</th>\n",
       "      <th>zvyagintsev</th>\n",
       "      <th>zvyagintsev loveless</th>\n",
       "      <th>zygier</th>\n",
       "      <th>zygier unintentionally</th>\n",
       "    </tr>\n",
       "    <tr>\n",
       "      <th>Date</th>\n",
       "      <th></th>\n",
       "      <th></th>\n",
       "      <th></th>\n",
       "      <th></th>\n",
       "      <th></th>\n",
       "      <th></th>\n",
       "      <th></th>\n",
       "      <th></th>\n",
       "      <th></th>\n",
       "      <th></th>\n",
       "      <th></th>\n",
       "      <th></th>\n",
       "      <th></th>\n",
       "      <th></th>\n",
       "      <th></th>\n",
       "      <th></th>\n",
       "      <th></th>\n",
       "      <th></th>\n",
       "      <th></th>\n",
       "      <th></th>\n",
       "      <th></th>\n",
       "    </tr>\n",
       "  </thead>\n",
       "  <tbody>\n",
       "    <tr>\n",
       "      <th>2009-07-20</th>\n",
       "      <td>NaN</td>\n",
       "      <td>NaN</td>\n",
       "      <td>NaN</td>\n",
       "      <td>NaN</td>\n",
       "      <td>NaN</td>\n",
       "      <td>NaN</td>\n",
       "      <td>NaN</td>\n",
       "      <td>NaN</td>\n",
       "      <td>NaN</td>\n",
       "      <td>NaN</td>\n",
       "      <td>...</td>\n",
       "      <td>NaN</td>\n",
       "      <td>NaN</td>\n",
       "      <td>NaN</td>\n",
       "      <td>NaN</td>\n",
       "      <td>NaN</td>\n",
       "      <td>NaN</td>\n",
       "      <td>NaN</td>\n",
       "      <td>NaN</td>\n",
       "      <td>NaN</td>\n",
       "      <td>NaN</td>\n",
       "    </tr>\n",
       "    <tr>\n",
       "      <th>2009-07-27</th>\n",
       "      <td>2.0</td>\n",
       "      <td>NaN</td>\n",
       "      <td>NaN</td>\n",
       "      <td>NaN</td>\n",
       "      <td>NaN</td>\n",
       "      <td>NaN</td>\n",
       "      <td>NaN</td>\n",
       "      <td>NaN</td>\n",
       "      <td>NaN</td>\n",
       "      <td>NaN</td>\n",
       "      <td>...</td>\n",
       "      <td>NaN</td>\n",
       "      <td>NaN</td>\n",
       "      <td>NaN</td>\n",
       "      <td>NaN</td>\n",
       "      <td>NaN</td>\n",
       "      <td>NaN</td>\n",
       "      <td>NaN</td>\n",
       "      <td>NaN</td>\n",
       "      <td>NaN</td>\n",
       "      <td>NaN</td>\n",
       "    </tr>\n",
       "    <tr>\n",
       "      <th>2009-08-03</th>\n",
       "      <td>2.0</td>\n",
       "      <td>NaN</td>\n",
       "      <td>NaN</td>\n",
       "      <td>NaN</td>\n",
       "      <td>NaN</td>\n",
       "      <td>NaN</td>\n",
       "      <td>NaN</td>\n",
       "      <td>NaN</td>\n",
       "      <td>NaN</td>\n",
       "      <td>NaN</td>\n",
       "      <td>...</td>\n",
       "      <td>NaN</td>\n",
       "      <td>NaN</td>\n",
       "      <td>NaN</td>\n",
       "      <td>NaN</td>\n",
       "      <td>NaN</td>\n",
       "      <td>NaN</td>\n",
       "      <td>NaN</td>\n",
       "      <td>NaN</td>\n",
       "      <td>NaN</td>\n",
       "      <td>NaN</td>\n",
       "    </tr>\n",
       "    <tr>\n",
       "      <th>2009-08-10</th>\n",
       "      <td>3.0</td>\n",
       "      <td>NaN</td>\n",
       "      <td>NaN</td>\n",
       "      <td>NaN</td>\n",
       "      <td>NaN</td>\n",
       "      <td>NaN</td>\n",
       "      <td>NaN</td>\n",
       "      <td>NaN</td>\n",
       "      <td>NaN</td>\n",
       "      <td>NaN</td>\n",
       "      <td>...</td>\n",
       "      <td>NaN</td>\n",
       "      <td>NaN</td>\n",
       "      <td>NaN</td>\n",
       "      <td>NaN</td>\n",
       "      <td>NaN</td>\n",
       "      <td>NaN</td>\n",
       "      <td>NaN</td>\n",
       "      <td>NaN</td>\n",
       "      <td>NaN</td>\n",
       "      <td>NaN</td>\n",
       "    </tr>\n",
       "    <tr>\n",
       "      <th>2009-08-17</th>\n",
       "      <td>1.0</td>\n",
       "      <td>NaN</td>\n",
       "      <td>NaN</td>\n",
       "      <td>NaN</td>\n",
       "      <td>NaN</td>\n",
       "      <td>NaN</td>\n",
       "      <td>NaN</td>\n",
       "      <td>NaN</td>\n",
       "      <td>NaN</td>\n",
       "      <td>NaN</td>\n",
       "      <td>...</td>\n",
       "      <td>NaN</td>\n",
       "      <td>NaN</td>\n",
       "      <td>NaN</td>\n",
       "      <td>NaN</td>\n",
       "      <td>NaN</td>\n",
       "      <td>NaN</td>\n",
       "      <td>NaN</td>\n",
       "      <td>NaN</td>\n",
       "      <td>NaN</td>\n",
       "      <td>NaN</td>\n",
       "    </tr>\n",
       "  </tbody>\n",
       "</table>\n",
       "<p>5 rows × 524035 columns</p>\n",
       "</div>"
      ],
      "text/plain": [
       "            000  000 000  000 10  000 13  000 170  000 1948  000 1970  \\\n",
       "Date                                                                    \n",
       "2009-07-20  NaN      NaN     NaN     NaN      NaN       NaN       NaN   \n",
       "2009-07-27  2.0      NaN     NaN     NaN      NaN       NaN       NaN   \n",
       "2009-08-03  2.0      NaN     NaN     NaN      NaN       NaN       NaN   \n",
       "2009-08-10  3.0      NaN     NaN     NaN      NaN       NaN       NaN   \n",
       "2009-08-17  1.0      NaN     NaN     NaN      NaN       NaN       NaN   \n",
       "\n",
       "            000 2004  000 2007  000 2010           ...            \\\n",
       "Date                                               ...             \n",
       "2009-07-20       NaN       NaN       NaN           ...             \n",
       "2009-07-27       NaN       NaN       NaN           ...             \n",
       "2009-08-03       NaN       NaN       NaN           ...             \n",
       "2009-08-10       NaN       NaN       NaN           ...             \n",
       "2009-08-17       NaN       NaN       NaN           ...             \n",
       "\n",
       "            zurich offices  zurich police  zurita  zurita working  zvonko  \\\n",
       "Date                                                                        \n",
       "2009-07-20             NaN            NaN     NaN             NaN     NaN   \n",
       "2009-07-27             NaN            NaN     NaN             NaN     NaN   \n",
       "2009-08-03             NaN            NaN     NaN             NaN     NaN   \n",
       "2009-08-10             NaN            NaN     NaN             NaN     NaN   \n",
       "2009-08-17             NaN            NaN     NaN             NaN     NaN   \n",
       "\n",
       "            zvonko veselinovic  zvyagintsev  zvyagintsev loveless  zygier  \\\n",
       "Date                                                                        \n",
       "2009-07-20                 NaN          NaN                   NaN     NaN   \n",
       "2009-07-27                 NaN          NaN                   NaN     NaN   \n",
       "2009-08-03                 NaN          NaN                   NaN     NaN   \n",
       "2009-08-10                 NaN          NaN                   NaN     NaN   \n",
       "2009-08-17                 NaN          NaN                   NaN     NaN   \n",
       "\n",
       "            zygier unintentionally  \n",
       "Date                                \n",
       "2009-07-20                     NaN  \n",
       "2009-07-27                     NaN  \n",
       "2009-08-03                     NaN  \n",
       "2009-08-10                     NaN  \n",
       "2009-08-17                     NaN  \n",
       "\n",
       "[5 rows x 524035 columns]"
      ]
     },
     "execution_count": 84,
     "metadata": {},
     "output_type": "execute_result"
    }
   ],
   "source": [
    "bigram_week_filling_df.head()"
   ]
  },
  {
   "cell_type": "code",
   "execution_count": 85,
   "metadata": {},
   "outputs": [],
   "source": [
    "bigram_week_filling_df.to_csv('20190806NYTimeBigramTable.csv')"
   ]
  },
  {
   "cell_type": "markdown",
   "metadata": {},
   "source": [
    "This line for loading the CSV file did not complete in approximately a day impacting testing of additional models"
   ]
  },
  {
   "cell_type": "code",
   "execution_count": null,
   "metadata": {},
   "outputs": [],
   "source": [
    "bigram_week_filling_df = pd.read_csv('20190806NYTimeBigramTable.csv')"
   ]
  },
  {
   "cell_type": "markdown",
   "metadata": {},
   "source": [
    "Fill in NaN with zeros"
   ]
  },
  {
   "cell_type": "code",
   "execution_count": 86,
   "metadata": {},
   "outputs": [],
   "source": [
    "bigram_nonan_week_filling_df = bigram_week_filling_df.fillna(0)"
   ]
  },
  {
   "cell_type": "code",
   "execution_count": 87,
   "metadata": {},
   "outputs": [
    {
     "data": {
      "text/html": [
       "<div>\n",
       "<style scoped>\n",
       "    .dataframe tbody tr th:only-of-type {\n",
       "        vertical-align: middle;\n",
       "    }\n",
       "\n",
       "    .dataframe tbody tr th {\n",
       "        vertical-align: top;\n",
       "    }\n",
       "\n",
       "    .dataframe thead th {\n",
       "        text-align: right;\n",
       "    }\n",
       "</style>\n",
       "<table border=\"1\" class=\"dataframe\">\n",
       "  <thead>\n",
       "    <tr style=\"text-align: right;\">\n",
       "      <th></th>\n",
       "      <th>000</th>\n",
       "      <th>000 000</th>\n",
       "      <th>000 10</th>\n",
       "      <th>000 13</th>\n",
       "      <th>000 170</th>\n",
       "      <th>000 1948</th>\n",
       "      <th>000 1970</th>\n",
       "      <th>000 2004</th>\n",
       "      <th>000 2007</th>\n",
       "      <th>000 2010</th>\n",
       "      <th>...</th>\n",
       "      <th>zurich offices</th>\n",
       "      <th>zurich police</th>\n",
       "      <th>zurita</th>\n",
       "      <th>zurita working</th>\n",
       "      <th>zvonko</th>\n",
       "      <th>zvonko veselinovic</th>\n",
       "      <th>zvyagintsev</th>\n",
       "      <th>zvyagintsev loveless</th>\n",
       "      <th>zygier</th>\n",
       "      <th>zygier unintentionally</th>\n",
       "    </tr>\n",
       "    <tr>\n",
       "      <th>Date</th>\n",
       "      <th></th>\n",
       "      <th></th>\n",
       "      <th></th>\n",
       "      <th></th>\n",
       "      <th></th>\n",
       "      <th></th>\n",
       "      <th></th>\n",
       "      <th></th>\n",
       "      <th></th>\n",
       "      <th></th>\n",
       "      <th></th>\n",
       "      <th></th>\n",
       "      <th></th>\n",
       "      <th></th>\n",
       "      <th></th>\n",
       "      <th></th>\n",
       "      <th></th>\n",
       "      <th></th>\n",
       "      <th></th>\n",
       "      <th></th>\n",
       "      <th></th>\n",
       "    </tr>\n",
       "  </thead>\n",
       "  <tbody>\n",
       "    <tr>\n",
       "      <th>2009-07-20</th>\n",
       "      <td>0.0</td>\n",
       "      <td>0.0</td>\n",
       "      <td>0.0</td>\n",
       "      <td>0.0</td>\n",
       "      <td>0.0</td>\n",
       "      <td>0.0</td>\n",
       "      <td>0.0</td>\n",
       "      <td>0.0</td>\n",
       "      <td>0.0</td>\n",
       "      <td>0.0</td>\n",
       "      <td>...</td>\n",
       "      <td>0.0</td>\n",
       "      <td>0.0</td>\n",
       "      <td>0.0</td>\n",
       "      <td>0.0</td>\n",
       "      <td>0.0</td>\n",
       "      <td>0.0</td>\n",
       "      <td>0.0</td>\n",
       "      <td>0.0</td>\n",
       "      <td>0.0</td>\n",
       "      <td>0.0</td>\n",
       "    </tr>\n",
       "    <tr>\n",
       "      <th>2009-07-27</th>\n",
       "      <td>2.0</td>\n",
       "      <td>0.0</td>\n",
       "      <td>0.0</td>\n",
       "      <td>0.0</td>\n",
       "      <td>0.0</td>\n",
       "      <td>0.0</td>\n",
       "      <td>0.0</td>\n",
       "      <td>0.0</td>\n",
       "      <td>0.0</td>\n",
       "      <td>0.0</td>\n",
       "      <td>...</td>\n",
       "      <td>0.0</td>\n",
       "      <td>0.0</td>\n",
       "      <td>0.0</td>\n",
       "      <td>0.0</td>\n",
       "      <td>0.0</td>\n",
       "      <td>0.0</td>\n",
       "      <td>0.0</td>\n",
       "      <td>0.0</td>\n",
       "      <td>0.0</td>\n",
       "      <td>0.0</td>\n",
       "    </tr>\n",
       "    <tr>\n",
       "      <th>2009-08-03</th>\n",
       "      <td>2.0</td>\n",
       "      <td>0.0</td>\n",
       "      <td>0.0</td>\n",
       "      <td>0.0</td>\n",
       "      <td>0.0</td>\n",
       "      <td>0.0</td>\n",
       "      <td>0.0</td>\n",
       "      <td>0.0</td>\n",
       "      <td>0.0</td>\n",
       "      <td>0.0</td>\n",
       "      <td>...</td>\n",
       "      <td>0.0</td>\n",
       "      <td>0.0</td>\n",
       "      <td>0.0</td>\n",
       "      <td>0.0</td>\n",
       "      <td>0.0</td>\n",
       "      <td>0.0</td>\n",
       "      <td>0.0</td>\n",
       "      <td>0.0</td>\n",
       "      <td>0.0</td>\n",
       "      <td>0.0</td>\n",
       "    </tr>\n",
       "    <tr>\n",
       "      <th>2009-08-10</th>\n",
       "      <td>3.0</td>\n",
       "      <td>0.0</td>\n",
       "      <td>0.0</td>\n",
       "      <td>0.0</td>\n",
       "      <td>0.0</td>\n",
       "      <td>0.0</td>\n",
       "      <td>0.0</td>\n",
       "      <td>0.0</td>\n",
       "      <td>0.0</td>\n",
       "      <td>0.0</td>\n",
       "      <td>...</td>\n",
       "      <td>0.0</td>\n",
       "      <td>0.0</td>\n",
       "      <td>0.0</td>\n",
       "      <td>0.0</td>\n",
       "      <td>0.0</td>\n",
       "      <td>0.0</td>\n",
       "      <td>0.0</td>\n",
       "      <td>0.0</td>\n",
       "      <td>0.0</td>\n",
       "      <td>0.0</td>\n",
       "    </tr>\n",
       "    <tr>\n",
       "      <th>2009-08-17</th>\n",
       "      <td>1.0</td>\n",
       "      <td>0.0</td>\n",
       "      <td>0.0</td>\n",
       "      <td>0.0</td>\n",
       "      <td>0.0</td>\n",
       "      <td>0.0</td>\n",
       "      <td>0.0</td>\n",
       "      <td>0.0</td>\n",
       "      <td>0.0</td>\n",
       "      <td>0.0</td>\n",
       "      <td>...</td>\n",
       "      <td>0.0</td>\n",
       "      <td>0.0</td>\n",
       "      <td>0.0</td>\n",
       "      <td>0.0</td>\n",
       "      <td>0.0</td>\n",
       "      <td>0.0</td>\n",
       "      <td>0.0</td>\n",
       "      <td>0.0</td>\n",
       "      <td>0.0</td>\n",
       "      <td>0.0</td>\n",
       "    </tr>\n",
       "  </tbody>\n",
       "</table>\n",
       "<p>5 rows × 524035 columns</p>\n",
       "</div>"
      ],
      "text/plain": [
       "            000  000 000  000 10  000 13  000 170  000 1948  000 1970  \\\n",
       "Date                                                                    \n",
       "2009-07-20  0.0      0.0     0.0     0.0      0.0       0.0       0.0   \n",
       "2009-07-27  2.0      0.0     0.0     0.0      0.0       0.0       0.0   \n",
       "2009-08-03  2.0      0.0     0.0     0.0      0.0       0.0       0.0   \n",
       "2009-08-10  3.0      0.0     0.0     0.0      0.0       0.0       0.0   \n",
       "2009-08-17  1.0      0.0     0.0     0.0      0.0       0.0       0.0   \n",
       "\n",
       "            000 2004  000 2007  000 2010           ...            \\\n",
       "Date                                               ...             \n",
       "2009-07-20       0.0       0.0       0.0           ...             \n",
       "2009-07-27       0.0       0.0       0.0           ...             \n",
       "2009-08-03       0.0       0.0       0.0           ...             \n",
       "2009-08-10       0.0       0.0       0.0           ...             \n",
       "2009-08-17       0.0       0.0       0.0           ...             \n",
       "\n",
       "            zurich offices  zurich police  zurita  zurita working  zvonko  \\\n",
       "Date                                                                        \n",
       "2009-07-20             0.0            0.0     0.0             0.0     0.0   \n",
       "2009-07-27             0.0            0.0     0.0             0.0     0.0   \n",
       "2009-08-03             0.0            0.0     0.0             0.0     0.0   \n",
       "2009-08-10             0.0            0.0     0.0             0.0     0.0   \n",
       "2009-08-17             0.0            0.0     0.0             0.0     0.0   \n",
       "\n",
       "            zvonko veselinovic  zvyagintsev  zvyagintsev loveless  zygier  \\\n",
       "Date                                                                        \n",
       "2009-07-20                 0.0          0.0                   0.0     0.0   \n",
       "2009-07-27                 0.0          0.0                   0.0     0.0   \n",
       "2009-08-03                 0.0          0.0                   0.0     0.0   \n",
       "2009-08-10                 0.0          0.0                   0.0     0.0   \n",
       "2009-08-17                 0.0          0.0                   0.0     0.0   \n",
       "\n",
       "            zygier unintentionally  \n",
       "Date                                \n",
       "2009-07-20                     0.0  \n",
       "2009-07-27                     0.0  \n",
       "2009-08-03                     0.0  \n",
       "2009-08-10                     0.0  \n",
       "2009-08-17                     0.0  \n",
       "\n",
       "[5 rows x 524035 columns]"
      ]
     },
     "execution_count": 87,
     "metadata": {},
     "output_type": "execute_result"
    }
   ],
   "source": [
    "bigram_nonan_week_filling_df.head(5)"
   ]
  },
  {
   "cell_type": "markdown",
   "metadata": {},
   "source": [
    "The Random Forest Classifier applied to the bigram and unigram data did not increase compared to the unigram data alone."
   ]
  },
  {
   "cell_type": "code",
   "execution_count": 88,
   "metadata": {},
   "outputs": [
    {
     "data": {
      "text/plain": [
       "array([0.58415842, 0.55445545, 0.62376238, 0.67      , 0.55      ])"
      ]
     },
     "execution_count": 88,
     "metadata": {},
     "output_type": "execute_result"
    }
   ],
   "source": [
    "rf = RandomForestClassifier(n_jobs=-1)\n",
    "k_fold = KFold(n_splits=5)\n",
    "cross_val_score(rf, bigram_nonan_week_filling_df, no_date_weekly_change[\"Change\"], cv=k_fold, scoring=\"accuracy\", n_jobs=-1)"
   ]
  },
  {
   "cell_type": "code",
   "execution_count": 89,
   "metadata": {},
   "outputs": [
    {
     "data": {
      "text/plain": [
       "0.5964752499999999"
      ]
     },
     "execution_count": 89,
     "metadata": {},
     "output_type": "execute_result"
    }
   ],
   "source": [
    "np.average([0.58415842, 0.55445545, 0.62376238, 0.67, 0.55])"
   ]
  },
  {
   "cell_type": "markdown",
   "metadata": {},
   "source": [
    "<b>Note:</b> The code in the two cells below ran for up to a day before I terminated it due to extremely long processing"
   ]
  },
  {
   "cell_type": "code",
   "execution_count": null,
   "metadata": {},
   "outputs": [],
   "source": [
    "SVM = svm.SVC(C=1.0, kernel='linear', degree=3, gamma='auto')\n",
    "k_fold = KFold(n_splits=5)\n",
    "cross_val_score(SVM, bigram_nonan_week_filling_df, no_date_weekly_change[\"Change\"], cv=k_fold, scoring=\"accuracy\", n_jobs=-1)"
   ]
  },
  {
   "cell_type": "code",
   "execution_count": null,
   "metadata": {},
   "outputs": [],
   "source": [
    "naive = naive_bayes.MultinomialNB()\n",
    "k_fold = KFold(n_splits=5)\n",
    "cross_val_score(naive, bigram_nonan_week_filling_df, no_date_weekly_change[\"Change\"], cv=k_fold, scoring=\"accuracy\", n_jobs=-1)"
   ]
  }
 ],
 "metadata": {
  "kernelspec": {
   "display_name": "Python 2",
   "language": "python",
   "name": "python2"
  }
 },
 "nbformat": 4,
 "nbformat_minor": 2
}
